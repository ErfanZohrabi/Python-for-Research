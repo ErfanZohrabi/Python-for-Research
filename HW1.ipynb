{
 "cells": [
  {
   "cell_type": "markdown",
   "metadata": {},
   "source": [
    "# Using Python for Research Homework: Week 1\n",
    "\n",
    "In this homework, we will use objects, functions, and randomness to find the length of documents, approximate $\\pi$, and smooth out random noise."
   ]
  },
  {
   "cell_type": "markdown",
   "metadata": {},
   "source": [
    "### Exercise 1\n",
    "\n",
    "In this five-part exercise, we will count the frequency of each letter in a given string.\n",
    "\n",
    "#### Exercise 1a\n",
    "\n",
    "- Import the `string` library.\n",
    "- Create a variable `alphabet` that consists of the lowercase and uppercase letters in the English alphabet using the `ascii_letters` data attribute of the `string` library."
   ]
  },
  {
   "cell_type": "code",
   "execution_count": 1,
   "metadata": {},
   "outputs": [
    {
     "name": "stdout",
     "output_type": "stream",
     "text": [
      "abcdefghijklmnopqrstuvwxyzABCDEFGHIJKLMNOPQRSTUVWXYZ\n"
     ]
    }
   ],
   "source": [
    "# Import the string library\n",
    "import string\n",
    "\n",
    "# Create a variable `alphabet` containing both lowercase and uppercase letters\n",
    "alphabet = string.ascii_letters\n",
    "\n",
    "# Display the result\n",
    "print(alphabet)"
   ]
  },
  {
   "cell_type": "markdown",
   "metadata": {},
   "source": [
    "#### Exercise 1b\n",
    "- The lower and upper case letters of the English alphabet should stored as the string variable `alphabet`.\n",
    "- Consider the sentence 'Jim quickly realized that the beautiful gowns are expensive'. Create a dictionary `count_letters` with keys consisting of each unique letter in the sentence and values consisting of the number of times each letter is used in this sentence. Count upper case and lower case letters separately in the dictionary."
   ]
  },
  {
   "cell_type": "code",
   "execution_count": 5,
   "metadata": {},
   "outputs": [
    {
     "name": "stdout",
     "output_type": "stream",
     "text": [
      "{'J': 1, 'i': 5, 'm': 1, 'q': 1, 'u': 3, 'c': 1, 'k': 1, 'l': 3, 'y': 1, 'r': 2, 'e': 8, 'a': 4, 'z': 1, 'd': 1, 't': 4, 'h': 2, 'b': 1, 'f': 1, 'g': 1, 'o': 1, 'w': 1, 'n': 2, 's': 2, 'x': 1, 'p': 1, 'v': 1}\n"
     ]
    }
   ],
   "source": [
    "# Define the sentence\n",
    "sentence = 'Jim quickly realized that the beautiful gowns are expensive'\n",
    "\n",
    "# Initialize an empty dictionary to count each letter\n",
    "count_letters = {}\n",
    "\n",
    "# Iterate through each character in the sentence\n",
    "for char in sentence:\n",
    "    if char.isalpha():  # Check if the character is a letter\n",
    "        # Update the count for the letter in the dictionary\n",
    "        count_letters[char] = count_letters.get(char, 0) + 1\n",
    "\n",
    "# Display the result\n",
    "print(count_letters)"
   ]
  },
  {
   "cell_type": "markdown",
   "metadata": {},
   "source": [
    "#### Exercise 1c\n",
    "- Rewrite your code from 1b to make a function called `counter` that takes a string `input_string` and returns a dictionary of letter counts `count_letters`.\n",
    "- Use your function to call `counter(sentence)`."
   ]
  },
  {
   "cell_type": "code",
   "execution_count": 6,
   "metadata": {},
   "outputs": [
    {
     "name": "stdout",
     "output_type": "stream",
     "text": [
      "{'J': 1, 'i': 5, 'm': 1, 'q': 1, 'u': 3, 'c': 1, 'k': 1, 'l': 3, 'y': 1, 'r': 2, 'e': 8, 'a': 4, 'z': 1, 'd': 1, 't': 4, 'h': 2, 'b': 1, 'f': 1, 'g': 1, 'o': 1, 'w': 1, 'n': 2, 's': 2, 'x': 1, 'p': 1, 'v': 1}\n"
     ]
    }
   ],
   "source": [
    "def counter(input_string):\n",
    "    # Initialize an empty dictionary to count each letter\n",
    "    count_letters = {}\n",
    "\n",
    "    # Iterate through each character in the input string\n",
    "    for char in input_string:\n",
    "        if char.isalpha():  # Check if the character is a letter\n",
    "            # Update the count for the letter in the dictionary\n",
    "            count_letters[char] = count_letters.get(char, 0) + 1\n",
    "\n",
    "    return count_letters\n",
    "\n",
    "# Test the function with the sentence\n",
    "sentence = 'Jim quickly realized that the beautiful gowns are expensive'\n",
    "letter_counts = counter(sentence)\n",
    "\n",
    "# Display the result\n",
    "print(letter_counts)\n"
   ]
  },
  {
   "cell_type": "markdown",
   "metadata": {},
   "source": [
    "#### Exercise 1d\n",
    "- Abraham Lincoln was a president during the American Civil War. His famous 1863 Gettysburg Address has been stored as `address`. Use the `counter` function from 1c to return a dictionary consisting of the count of each letter in this address and save it as `address_count`."
   ]
  },
  {
   "cell_type": "code",
   "execution_count": 7,
   "metadata": {},
   "outputs": [
    {
     "name": "stdout",
     "output_type": "stream",
     "text": [
      "{'F': 1, 'o': 37, 'u': 6, 'r': 28, 's': 16, 'c': 14, 'e': 57, 'a': 46, 'n': 35, 'd': 21, 'v': 8, 'y': 3, 'g': 13, 'f': 9, 't': 52, 'h': 23, 'b': 3, 'i': 32, 'w': 8, 'L': 1, 'p': 6, 'l': 14, 'm': 4, 'q': 1, 'N': 1, 'W': 2, 'I': 1}\n"
     ]
    }
   ],
   "source": [
    "# Gettysburg Address text\n",
    "address = \"\"\"\n",
    "Four score and seven years ago our fathers brought forth on this continent, a new nation, conceived in Liberty, \n",
    "and dedicated to the proposition that all men are created equal. Now we are engaged in a great civil war, testing \n",
    "whether that nation, or any nation so conceived and so dedicated, can long endure. We are met on a great battlefield \n",
    "of that war. We have come to dedicate a portion of that field, as a final resting place for those who here gave their \n",
    "lives that that nation might live. It is altogether fitting and proper that we should do this.\n",
    "\"\"\"\n",
    "\n",
    "# Use the `counter` function to count the letters in `address`\n",
    "address_count = counter(address)\n",
    "\n",
    "# Display the result\n",
    "print(address_count)"
   ]
  },
  {
   "cell_type": "markdown",
   "metadata": {},
   "source": [
    "#### Exercise 1f\n",
    "- The frequency of each letter in the Gettysburg Address is already stored as `address_count`. Use this dictionary to find the most common letter in the Gettysburg address."
   ]
  },
  {
   "cell_type": "code",
   "execution_count": 8,
   "metadata": {},
   "outputs": [
    {
     "name": "stdout",
     "output_type": "stream",
     "text": [
      "The most common letter is 'e' with a count of 57.\n"
     ]
    }
   ],
   "source": [
    "# Find the most common letter in `address_count`\n",
    "most_common_letter = max(address_count, key=address_count.get)\n",
    "most_common_count = address_count[most_common_letter]\n",
    "\n",
    "# Display the result\n",
    "print(f\"The most common letter is '{most_common_letter}' with a count of {most_common_count}.\")"
   ]
  },
  {
   "cell_type": "markdown",
   "metadata": {},
   "source": [
    "### Exercise 2\n",
    "\n",
    "Consider a circle inscribed in a square. The ratio of their areas (the ratio of the area of the circle to the area of the square) is $\\frac{\\pi}{4}$. In this six-part exercise, we will find a way to approximate this value.\n",
    "\n",
    "#### Exercise 2a\n",
    "- Using the `math` library, calculate and print the value of $\\frac{\\pi}{4}$"
   ]
  },
  {
   "cell_type": "code",
   "execution_count": 9,
   "metadata": {},
   "outputs": [
    {
     "name": "stdout",
     "output_type": "stream",
     "text": [
      "The value of π/4 is: 0.7853981633974483\n"
     ]
    }
   ],
   "source": [
    "import math\n",
    "\n",
    "# Calculate π/4\n",
    "pi_over_4 = math.pi / 4\n",
    "\n",
    "# Print the result\n",
    "print(\"The value of π/4 is:\", pi_over_4)\n"
   ]
  },
  {
   "cell_type": "markdown",
   "metadata": {},
   "source": [
    "#### Exercise 2b\n",
    "- Using `random.uniform()`, create a function `rand()` that generates a single float between $-1$ and $1$.\n",
    "- Call `rand()` once. For us to be able to check your solution, we will use `random.seed()` to fix the seed value of the random number generator."
   ]
  },
  {
   "cell_type": "code",
   "execution_count": 11,
   "metadata": {},
   "outputs": [
    {
     "name": "stdout",
     "output_type": "stream",
     "text": [
      "Random value: 0.6888437030500962\n"
     ]
    }
   ],
   "source": [
    "import random\n",
    "\n",
    "# Define the function rand to generate a random float between -1 and 1\n",
    "def rand():\n",
    "    return random.uniform(-1, 1)\n",
    "\n",
    "# Set the seed for reproducibility\n",
    "random.seed(0)\n",
    "\n",
    "# Call rand() once\n",
    "random_value = rand()\n",
    "\n",
    "# Print the result\n",
    "print(\"Random value:\", random_value)"
   ]
  },
  {
   "cell_type": "markdown",
   "metadata": {},
   "source": [
    "#### Exercise 2c\n",
    "- The distance between two points x and y is the square root of the sum of squared differences along each dimension of x and y. Write a function` distance(x, y)` that takes two vectors as its input and outputs the distance between them. Use your function to find the distance between $x=(0,0)$ and $y=(1,1)$."
   ]
  },
  {
   "cell_type": "code",
   "execution_count": 12,
   "metadata": {},
   "outputs": [
    {
     "name": "stdout",
     "output_type": "stream",
     "text": [
      "Distance between (0, 0) and (1, 1): 1.4142135623730951\n"
     ]
    }
   ],
   "source": [
    "import math\n",
    "\n",
    "# Define the function to calculate the Euclidean distance between two points\n",
    "def distance(x, y):\n",
    "    return math.sqrt((x[0] - y[0]) ** 2 + (x[1] - y[1]) ** 2)\n",
    "\n",
    "# Test the function with x=(0, 0) and y=(1, 1)\n",
    "x = (0, 0)\n",
    "y = (1, 1)\n",
    "result = distance(x, y)\n",
    "\n",
    "# Print the result\n",
    "print(\"Distance between (0, 0) and (1, 1):\", result)"
   ]
  },
  {
   "cell_type": "markdown",
   "metadata": {},
   "source": [
    "#### Exercise 2d\n",
    "\n",
    "- Write a function `in_circle(x, origin)` that determines whether a point in a two dimensional plane falls within a unit circle surrounding a given origin.\n",
    "    - Your function should return a boolean `True` if the distance between `x` and `origin` is less than 1 and `False` otherwise.\n",
    "    - Use `distance(x, y)` as defined in 2c.\n",
    "- Use your function to determine whether the point (1,1) lies within the unit circle centered at (0,0)."
   ]
  },
  {
   "cell_type": "code",
   "execution_count": 13,
   "metadata": {},
   "outputs": [
    {
     "name": "stdout",
     "output_type": "stream",
     "text": [
      "Distance between (0, 0) and (1, 1): 1.4142135623730951\n"
     ]
    }
   ],
   "source": [
    "import math\n",
    "\n",
    "# Define the function to calculate the Euclidean distance between two points\n",
    "def distance(x, y):\n",
    "    return math.sqrt((x[0] - y[0]) ** 2 + (x[1] - y[1]) ** 2)\n",
    "\n",
    "# Test the function with x=(0, 0) and y=(1, 1)\n",
    "x = (0, 0)\n",
    "y = (1, 1)\n",
    "result = distance(x, y)\n",
    "\n",
    "# Print the result\n",
    "print(\"Distance between (0, 0) and (1, 1):\", result)\n"
   ]
  },
  {
   "cell_type": "markdown",
   "metadata": {},
   "source": [
    "#### Exercise 2e\n",
    "\n",
    "- Create a list `inside` of `R=10000` booleans that determines whether or not a point falls within the unit circle centered at `(0,0)`. \n",
    "    - Use the `rand` function from 2b to generate `R` randomly located points.\n",
    "    - Use the function `in_circle` to test whether or not a given pint falls within the unit circle.\n",
    "- Find the proportion of points that fall within the circle by summing all `True` values in the `inside` list; then divide the answer by `R` to obtain a proportion.\n",
    "- Print your answer. This proportion is an estimate of the ratio of the two areas!"
   ]
  },
  {
   "cell_type": "code",
   "execution_count": 14,
   "metadata": {},
   "outputs": [
    {
     "name": "stdout",
     "output_type": "stream",
     "text": [
      "Proportion of points inside the unit circle (estimate of π/4): 0.7809\n"
     ]
    }
   ],
   "source": [
    "import random\n",
    "import math\n",
    "\n",
    "# Define the function `rand` to generate a random float between -1 and 1\n",
    "def rand():\n",
    "    return random.uniform(-1, 1)\n",
    "\n",
    "# Define the function `in_circle` to check if a point (x, y) is within the unit circle\n",
    "def in_circle(x, y):\n",
    "    return x**2 + y**2 <= 1\n",
    "\n",
    "# Set the number of points to generate\n",
    "R = 10000\n",
    "random.seed(0)  # Fixing the seed for reproducibility\n",
    "\n",
    "# Create a list `inside` to store whether each point falls within the unit circle\n",
    "inside = [in_circle(rand(), rand()) for _ in range(R)]\n",
    "\n",
    "# Calculate the proportion of points inside the circle\n",
    "proportion = sum(inside) / R\n",
    "\n",
    "# Print the proportion (estimate of π/4)\n",
    "print(\"Proportion of points inside the unit circle (estimate of π/4):\", proportion)\n"
   ]
  },
  {
   "cell_type": "markdown",
   "metadata": {},
   "source": [
    "#### Exercise 2f\n",
    "\n",
    "- Find the difference between your estimate from part 2e and `math.pi / 4`. Note: `inside` and `R` are defined as in Exercise 2e."
   ]
  },
  {
   "cell_type": "code",
   "execution_count": 15,
   "metadata": {},
   "outputs": [
    {
     "name": "stdout",
     "output_type": "stream",
     "text": [
      "Difference between actual π/4 and estimate: 0.0044981633974482405\n"
     ]
    }
   ],
   "source": [
    "import math\n",
    "\n",
    "# The actual value of π/4\n",
    "actual_value = math.pi / 4\n",
    "\n",
    "# Calculate the difference between the actual value and our estimate\n",
    "difference = abs(actual_value - proportion)\n",
    "\n",
    "# Print the result\n",
    "print(\"Difference between actual π/4 and estimate:\", difference)\n"
   ]
  },
  {
   "cell_type": "markdown",
   "metadata": {},
   "source": [
    "### Exercise 3\n",
    "\n",
    "A list of numbers representing measurements obtained from a system of interest can often be noisy. One way to deal with noise to smoothen the values by replacing each value with the average of the value and the values of its neighbors.\n",
    "\n",
    "#### Exercise 3a\n",
    "\n",
    "- Write a function `moving_window_average(x, n_neighbors)` that takes a list `x` and the number of neighbors `n_neighbors` on either side of a given member of the list to consider.\n",
    "- For each value in `x`, `moving_window_average(x, n_neighbors)` computes the average of the value and the values of its neighbors.\n",
    "- `moving_window_average` should return a list of averaged values that is the same length as the original list.\n",
    "- If there are not enough neighbors (for cases near the edge), substitute the original value for a neighbor for each missing neighbor.\n",
    "- Use your function to find the moving window sum of `x=[0,10,5,3,1,5]` and `n_neighbors=1`."
   ]
  },
  {
   "cell_type": "code",
   "execution_count": 17,
   "metadata": {},
   "outputs": [
    {
     "name": "stdout",
     "output_type": "stream",
     "text": [
      "Moving window average: [5.0, 5.0, 6.0, 3.0, 3.0, 3.0]\n"
     ]
    }
   ],
   "source": [
    "def moving_window_average(x, n_neighbors):\n",
    "    # Initialize the result list\n",
    "    result = []\n",
    "    \n",
    "    # Calculate the moving average for each element\n",
    "    for i in range(len(x)):\n",
    "        # Determine the start and end indices for the window\n",
    "        start = max(0, i - n_neighbors)\n",
    "        end = min(len(x), i + n_neighbors + 1)\n",
    "        \n",
    "        # Calculate the average of the current element and its neighbors\n",
    "        window = x[start:end]\n",
    "        window_average = sum(window) / len(window)\n",
    "        \n",
    "        # Append the average to the result list\n",
    "        result.append(window_average)\n",
    "    \n",
    "    return result\n",
    "\n",
    "# Test the function with the given input\n",
    "x = [0, 10, 5, 3, 1, 5]\n",
    "n_neighbors = 1\n",
    "moving_average = moving_window_average(x, n_neighbors)\n",
    "\n",
    "# Print the result\n",
    "print(\"Moving window average:\", moving_average)\n"
   ]
  },
  {
   "cell_type": "markdown",
   "metadata": {},
   "source": [
    "#### Exercise 3b\n",
    "- Compute and store `R=1000` random values from 0-1 as `x`.\n",
    "- Compute the moving window average for `x` for values of `n_neighbors` ranging from 1 to 9 inclusive.\n",
    "- Store `x` as well as each of these averages as consecutive lists in a list called `Y`"
   ]
  },
  {
   "cell_type": "code",
   "execution_count": 18,
   "metadata": {},
   "outputs": [
    {
     "name": "stdout",
     "output_type": "stream",
     "text": [
      "Number of lists in Y: 10\n",
      "First 5 values in Y[0] (original x): [0.8444218515250481, 0.7579544029403025, 0.420571580830845, 0.25891675029296335, 0.5112747213686085]\n",
      "First 5 values in Y[1] (n_neighbors=1): [0.8011881272326753, 0.6743159450987318, 0.47914757802137026, 0.3969210174974723, 0.39170853637066205]\n",
      "First 5 values in Y[9] (n_neighbors=9): [0.5345163753129268, 0.5684796943931458, 0.5631636245118329, 0.541523179887823, 0.5568289673356374]\n"
     ]
    }
   ],
   "source": [
    "import random\n",
    "\n",
    "# Generate R=1000 random values between 0 and 1\n",
    "R = 1000\n",
    "random.seed(0)  # Set seed for reproducibility\n",
    "x = [random.uniform(0, 1) for _ in range(R)]\n",
    "\n",
    "# Define the moving_window_average function from Exercise 3a\n",
    "def moving_window_average(x, n_neighbors):\n",
    "    result = []\n",
    "    for i in range(len(x)):\n",
    "        start = max(0, i - n_neighbors)\n",
    "        end = min(len(x), i + n_neighbors + 1)\n",
    "        window = x[start:end]\n",
    "        window_average = sum(window) / len(window)\n",
    "        result.append(window_average)\n",
    "    return result\n",
    "\n",
    "# Initialize Y with the original x\n",
    "Y = [x]\n",
    "\n",
    "# Compute moving window averages for n_neighbors from 1 to 9 and append to Y\n",
    "for n_neighbors in range(1, 10):\n",
    "    Y.append(moving_window_average(x, n_neighbors))\n",
    "\n",
    "# Display the length of Y to confirm the result\n",
    "print(\"Number of lists in Y:\", len(Y))\n",
    "print(\"First 5 values in Y[0] (original x):\", Y[0][:5])\n",
    "print(\"First 5 values in Y[1] (n_neighbors=1):\", Y[1][:5])\n",
    "print(\"First 5 values in Y[9] (n_neighbors=9):\", Y[9][:5])\n"
   ]
  },
  {
   "cell_type": "markdown",
   "metadata": {},
   "source": [
    "#### Exercise 3c\n",
    "\n",
    "- For each list in `Y`, calculate and store the range (the maximum minus the minimum) in a new list ranges.\n",
    "- Print your answer. As the window width increases, does the range of each list increase or decrease? Why do you think that is?"
   ]
  },
  {
   "cell_type": "code",
   "execution_count": 19,
   "metadata": {},
   "outputs": [
    {
     "name": "stdout",
     "output_type": "stream",
     "text": [
      "Ranges for each list in Y: [0.9994444290517445, 0.889754662171303, 0.8227391587301345, 0.6715792490808192, 0.5565143257654918, 0.5179918942599326, 0.45558460179293636, 0.44841968038532637, 0.4064649930379096, 0.4183030997812423]\n"
     ]
    }
   ],
   "source": [
    "# Calculate and store the range for each list in Y\n",
    "ranges = [max(y) - min(y) for y in Y]\n",
    "\n",
    "# Print the ranges\n",
    "print(\"Ranges for each list in Y:\", ranges)\n"
   ]
  }
 ],
 "metadata": {
  "kernelspec": {
   "display_name": "project",
   "language": "python",
   "name": "python3"
  },
  "language_info": {
   "codemirror_mode": {
    "name": "ipython",
    "version": 3
   },
   "file_extension": ".py",
   "mimetype": "text/x-python",
   "name": "python",
   "nbconvert_exporter": "python",
   "pygments_lexer": "ipython3",
   "version": "3.12.7"
  }
 },
 "nbformat": 4,
 "nbformat_minor": 2
}
