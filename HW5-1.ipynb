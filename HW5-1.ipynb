{
 "cells": [
  {
   "cell_type": "markdown",
   "metadata": {},
   "source": [
    "# Using Python for Research Homework: Week 5, Case Study Part 1\n",
    "\n",
    "The [movie dataset on which this case study is based](https://www.kaggle.com/tmdb/tmdb-movie-metadata) is a database of 5000 movies catalogued by [The Movie Database (TMDb)](https://www.themoviedb.org/?language=en). The information available about each movie is its budget, revenue, rating, actors and actresses, etc. In this case study, we will use this dataset to determine whether any information about a movie can predict the total revenue of a movie. We will also attempt to predict whether a movie's revenue will exceed its budget.\n",
    "\n",
    "In Part 1, we will inspect, clean, and transform the data."
   ]
  },
  {
   "cell_type": "markdown",
   "metadata": {},
   "source": [
    "### Exercise 1\n",
    "\n",
    "First, we will import several libraries. `scikit-learn` (**sklearn**) contains helpful statistical models, and we'll use the `matplotlib.pyplot` library for visualizations. Of course, we will use `numpy` and `pandas` for data manipulation throughout.\n",
    "\n",
    "#### Instructions \n",
    "\n",
    "- Read and execute the given code.\n",
    "- Call `df.head()` to take a look at the data."
   ]
  },
  {
   "cell_type": "code",
   "execution_count": 5,
   "metadata": {},
   "outputs": [
    {
     "name": "stdout",
     "output_type": "stream",
     "text": [
      "     budget    revenue  rating            actors  runtime    title\n",
      "0  20000000   80000000     7.5  Actor A, Actor B      120  Movie 1\n",
      "1  15000000   60000000     8.2  Actor C, Actor D       90  Movie 2\n",
      "2  30000000  150000000     6.9  Actor E, Actor F      150  Movie 3\n",
      "3  10000000    5000000     7.0  Actor G, Actor H       80  Movie 4\n",
      "4  50000000  200000000     8.1  Actor I, Actor J      140  Movie 5\n",
      "\n",
      "Data types and structure:\n",
      "<class 'pandas.core.frame.DataFrame'>\n",
      "RangeIndex: 5 entries, 0 to 4\n",
      "Data columns (total 6 columns):\n",
      " #   Column   Non-Null Count  Dtype  \n",
      "---  ------   --------------  -----  \n",
      " 0   budget   5 non-null      int64  \n",
      " 1   revenue  5 non-null      int64  \n",
      " 2   rating   5 non-null      float64\n",
      " 3   actors   5 non-null      object \n",
      " 4   runtime  5 non-null      int64  \n",
      " 5   title    5 non-null      object \n",
      "dtypes: float64(1), int64(3), object(2)\n",
      "memory usage: 372.0+ bytes\n",
      "None\n",
      "\n",
      "Summary statistics of numerical columns:\n",
      "             budget       revenue    rating     runtime\n",
      "count  5.000000e+00  5.000000e+00  5.000000    5.000000\n",
      "mean   2.500000e+07  9.900000e+07  7.540000  116.000000\n",
      "std    1.581139e+07  7.668116e+07  0.602495   30.495901\n",
      "min    1.000000e+07  5.000000e+06  6.900000   80.000000\n",
      "25%    1.500000e+07  6.000000e+07  7.000000   90.000000\n",
      "50%    2.000000e+07  8.000000e+07  7.500000  120.000000\n",
      "75%    3.000000e+07  1.500000e+08  8.100000  140.000000\n",
      "max    5.000000e+07  2.000000e+08  8.200000  150.000000\n",
      "\n",
      "Check for missing values:\n",
      "budget     0\n",
      "revenue    0\n",
      "rating     0\n",
      "actors     0\n",
      "runtime    0\n",
      "title      0\n",
      "dtype: int64\n"
     ]
    }
   ],
   "source": [
    "# Imports for the case study\n",
    "import pandas as pd\n",
    "import numpy as np\n",
    "import matplotlib.pyplot as plt\n",
    "from sklearn.model_selection import train_test_split\n",
    "from sklearn.linear_model import LinearRegression\n",
    "\n",
    "# Load the movie dataset\n",
    "# Assuming the dataset is available in the same directory\n",
    "# Using a sample DataFrame instead to simulate the analysis as I don't have access to the file system here\n",
    "data = {\n",
    "    'budget': [20000000, 15000000, 30000000, 10000000, 50000000],\n",
    "    'revenue': [80000000, 60000000, 150000000, 5000000, 200000000],\n",
    "    'rating': [7.5, 8.2, 6.9, 7.0, 8.1],\n",
    "    'actors': [\"Actor A, Actor B\", \"Actor C, Actor D\", \"Actor E, Actor F\", \"Actor G, Actor H\", \"Actor I, Actor J\"],\n",
    "    'runtime': [120, 90, 150, 80, 140],\n",
    "    'title': [\"Movie 1\", \"Movie 2\", \"Movie 3\", \"Movie 4\", \"Movie 5\"]\n",
    "}\n",
    "\n",
    "df = pd.DataFrame(data)\n",
    "\n",
    "# Display the first few rows of the dataset to inspect the data\n",
    "print(df.head())\n",
    "\n",
    "# Check data types and structure\n",
    "print(\"\\nData types and structure:\")\n",
    "print(df.info())\n",
    "\n",
    "# Get summary statistics of numerical columns\n",
    "print(\"\\nSummary statistics of numerical columns:\")\n",
    "print(df.describe())\n",
    "\n",
    "# Check for missing values in the dataset\n",
    "print(\"\\nCheck for missing values:\")\n",
    "print(df.isnull().sum())\n"
   ]
  },
  {
   "cell_type": "markdown",
   "metadata": {},
   "source": [
    "### Exercise 2\n",
    "\n",
    "In this exercise, we will define the regression and classification outcomes. Specifically, we will use the `revenue` column as the target for regression. For classification, we will construct an indicator of profitability for each movie.\n",
    "\n",
    "#### Instructions \n",
    "- Create a new column in `df` called `profitable`, defined as 1 if the movie `revenue` is greater than the movie `budget`, and 0 otherwise.\n",
    "- Next, define and store the outcomes we will use for regression and classification.\n",
    "    - Define `regression_target` as the string `'revenue'`.\n",
    "    - Define `classification_target` as the string `'profitable'`."
   ]
  },
  {
   "cell_type": "code",
   "execution_count": 6,
   "metadata": {},
   "outputs": [
    {
     "name": "stdout",
     "output_type": "stream",
     "text": [
      "     budget    revenue  rating            actors  runtime    title  profitable\n",
      "0  20000000   80000000     7.5  Actor A, Actor B      120  Movie 1           1\n",
      "1  15000000   60000000     8.2  Actor C, Actor D       90  Movie 2           1\n",
      "2  30000000  150000000     6.9  Actor E, Actor F      150  Movie 3           1\n",
      "3  10000000    5000000     7.0  Actor G, Actor H       80  Movie 4           0\n",
      "4  50000000  200000000     8.1  Actor I, Actor J      140  Movie 5           1\n"
     ]
    }
   ],
   "source": [
    "# Creating a new column `profitable` to indicate whether a movie's revenue exceeds its budget\n",
    "# Use np.where() to assign 1 if revenue is greater than budget, otherwise 0\n",
    "df['profitable'] = np.where(df['revenue'] > df['budget'], 1, 0)\n",
    "\n",
    "# Defining the regression and classification targets\n",
    "regression_target = 'revenue'\n",
    "classification_target = 'profitable'\n",
    "\n",
    "# Display the updated DataFrame to verify the new column\n",
    "print(df.head())\n"
   ]
  },
  {
   "cell_type": "markdown",
   "metadata": {},
   "source": [
    "### Exercise 3\n",
    "\n",
    "For simplicity, we will proceed by analyzing only the rows without any missing data. In this exercise, we will remove rows with any infinite or missing values.\n",
    "\n",
    "#### Instructions \n",
    "\n",
    "- Use `df.replace()` to replace any cells with type `np.inf` or `-np.inf` with `np.nan`.\n",
    "- Drop all rows with any `np.nan` values in that row using `df.dropna()`. Do any further arguments need to be specified in this function to remove rows with any such values?"
   ]
  },
  {
   "cell_type": "code",
   "execution_count": 7,
   "metadata": {},
   "outputs": [
    {
     "name": "stdout",
     "output_type": "stream",
     "text": [
      "     budget    revenue  rating            actors  runtime    title  profitable\n",
      "0  20000000   80000000     7.5  Actor A, Actor B      120  Movie 1           1\n",
      "1  15000000   60000000     8.2  Actor C, Actor D       90  Movie 2           1\n",
      "2  30000000  150000000     6.9  Actor E, Actor F      150  Movie 3           1\n",
      "3  10000000    5000000     7.0  Actor G, Actor H       80  Movie 4           0\n",
      "4  50000000  200000000     8.1  Actor I, Actor J      140  Movie 5           1\n",
      "\n",
      "Number of rows remaining after dropping rows with missing or infinite values: 5\n"
     ]
    }
   ],
   "source": [
    "# Assuming the dataset `df` is already loaded\n",
    "\n",
    "import pandas as pd\n",
    "import numpy as np\n",
    "\n",
    "# Step 1: Replace infinite values with NaN\n",
    "# Replace `np.inf` and `-np.inf` with `np.nan`\n",
    "df.replace([np.inf, -np.inf], np.nan, inplace=True)\n",
    "\n",
    "# Step 2: Drop rows with any NaN values\n",
    "# Drop rows that have any NaN values in them\n",
    "df.dropna(inplace=True)\n",
    "\n",
    "# Step 3: Display the updated DataFrame to verify that rows with missing or infinite values have been removed\n",
    "print(df.head())\n",
    "\n",
    "# Print the number of rows remaining in the DataFrame after removing missing or infinite values\n",
    "print(f\"\\nNumber of rows remaining after dropping rows with missing or infinite values: {len(df)}\")\n"
   ]
  },
  {
   "cell_type": "markdown",
   "metadata": {},
   "source": [
    "### Exercise 4\n",
    "\n",
    "Many of the variables in our dataframe contain the names of genre, actors/actresses, and keywords. Let's add indicator columns for each genre.\n",
    "\n",
    "#### Instructions \n",
    "\n",
    "- Determine all the genres in the genre column. Make sure to use the `strip()` function on each genre to remove trailing characters.\n",
    "- Next, include each listed genre as a new column in the dataframe. Each element of these genre columns should be 1 if the movie belongs to that particular genre, and 0 otherwise. Keep in mind, a movie may belong to several genres at once.\n",
    "- Call `df[genres].head()` to view your results."
   ]
  },
  {
   "cell_type": "code",
   "execution_count": 8,
   "metadata": {},
   "outputs": [
    {
     "name": "stdout",
     "output_type": "stream",
     "text": [
      "     title            genres  Romance  Drama  Family  Action  Comedy  \\\n",
      "0  Movie 1  Action|Adventure        0      0       0       1       0   \n",
      "1  Movie 2     Drama|Romance        1      1       0       0       0   \n",
      "2  Movie 3   Action|Thriller        0      0       0       1       0   \n",
      "3  Movie 4             Drama        0      1       0       0       0   \n",
      "4  Movie 5     Comedy|Family        0      0       1       0       1   \n",
      "\n",
      "   Adventure  Thriller  \n",
      "0          1         0  \n",
      "1          0         0  \n",
      "2          0         1  \n",
      "3          0         0  \n",
      "4          0         0  \n",
      "\n",
      "Genre Indicator Columns:\n",
      "   Romance  Drama  Family  Action  Comedy  Adventure  Thriller\n",
      "0        0      0       0       1       0          1         0\n",
      "1        1      1       0       0       0          0         0\n",
      "2        0      0       0       1       0          0         1\n",
      "3        0      1       0       0       0          0         0\n",
      "4        0      0       1       0       1          0         0\n"
     ]
    }
   ],
   "source": [
    "# Assuming the dataset `df` is already loaded and contains a `genres` column\n",
    "import pandas as pd\n",
    "\n",
    "# Sample data for testing purposes - replace with your own DataFrame\n",
    "data = {\n",
    "    'title': [\"Movie 1\", \"Movie 2\", \"Movie 3\", \"Movie 4\", \"Movie 5\"],\n",
    "    'genres': [\"Action|Adventure\", \"Drama|Romance\", \"Action|Thriller\", \"Drama\", \"Comedy|Family\"]\n",
    "}\n",
    "df = pd.DataFrame(data)\n",
    "\n",
    "# Step 1: Extract all unique genres\n",
    "# Split the genres for each movie, and then gather a unique set of all genres\n",
    "unique_genres = set()\n",
    "\n",
    "# Iterate through the 'genres' column and extract unique genres\n",
    "for genre_list in df['genres']:\n",
    "    genres = genre_list.split('|')  # Assuming genres are separated by '|'\n",
    "    for genre in genres:\n",
    "        unique_genres.add(genre.strip())  # Add each genre to the set after stripping trailing spaces\n",
    "\n",
    "# Convert the set of unique genres to a list\n",
    "genres_list = list(unique_genres)\n",
    "\n",
    "# Step 2: Add indicator columns for each genre to the DataFrame\n",
    "for genre in genres_list:\n",
    "    df[genre] = df['genres'].apply(lambda x: 1 if genre in x else 0)\n",
    "\n",
    "# Step 3: View the updated DataFrame with the new genre columns\n",
    "print(df.head())\n",
    "\n",
    "# Display the genre indicator columns\n",
    "print(\"\\nGenre Indicator Columns:\")\n",
    "print(df[genres_list].head())\n"
   ]
  },
  {
   "cell_type": "markdown",
   "metadata": {},
   "source": [
    "### Exercise 5\n",
    "\n",
    "Some variables in the dataset are already numeric and perhaps useful for regression and classification. In this exercise, we will store the names of these variables for future use. We will also take a look at some of the continuous variables and outcomes by plotting each pair in a scatter plot. Finally, we will evaluate the skew of each variable.\n",
    "\n",
    "#### Instructions \n",
    "- Call `plt.show()` to observe the plot below.\n",
    "    - Which of the covariates and/or outcomes are correlated with each other?\n",
    "- Call `skew()` on the columns `outcomes_and_continuous_covariates` in df.\n",
    "    - Is the skew above 1 for any of these variables?"
   ]
  },
  {
   "cell_type": "code",
   "execution_count": 10,
   "metadata": {},
   "outputs": [
    {
     "name": "stdout",
     "output_type": "stream",
     "text": [
      "Available columns in the DataFrame:\n",
      "Index(['title', 'genres', 'Romance', 'Drama', 'Family', 'Action', 'Comedy',\n",
      "       'Adventure', 'Thriller'],\n",
      "      dtype='object')\n",
      "Warning: The following columns are missing in the DataFrame: {'budget', 'revenue', 'popularity'}\n",
      "Not enough valid columns available to create the scatter matrix plot.\n",
      "No valid outcomes or covariates available to calculate skew.\n"
     ]
    }
   ],
   "source": [
    "# Assuming the dataset `df` is already loaded and contains the relevant columns\n",
    "import pandas as pd\n",
    "import matplotlib.pyplot as plt\n",
    "\n",
    "# Step 1: Define the list of continuous covariates for future use\n",
    "continuous_covariates = ['budget', 'popularity', 'runtime', 'vote_count', 'vote_average']\n",
    "\n",
    "# Define the list of outcomes and continuous covariates\n",
    "# Regression target is 'revenue', and classification target is 'profitable' as defined earlier\n",
    "regression_target = 'revenue'\n",
    "classification_target = 'profitable'\n",
    "outcomes_and_continuous_covariates = continuous_covariates + [regression_target, classification_target]\n",
    "\n",
    "# Step 1.5: Verify that columns exist in the DataFrame\n",
    "print(\"Available columns in the DataFrame:\")\n",
    "print(df.columns)\n",
    "\n",
    "# Define variables to plot\n",
    "plotting_variables = ['budget', 'popularity', regression_target]\n",
    "\n",
    "# Ensure all the plotting variables are available in the DataFrame\n",
    "valid_plotting_variables = [var for var in plotting_variables if var in df.columns]\n",
    "\n",
    "if len(valid_plotting_variables) < len(plotting_variables):\n",
    "    missing_vars = set(plotting_variables) - set(valid_plotting_variables)\n",
    "    print(f\"Warning: The following columns are missing in the DataFrame: {missing_vars}\")\n",
    "\n",
    "# Step 2: Plotting the scatter matrix for specific variables if all required columns are present\n",
    "if len(valid_plotting_variables) == len(plotting_variables):\n",
    "    # Create scatter matrix\n",
    "    axes = pd.plotting.scatter_matrix(df[valid_plotting_variables], alpha=0.15, \n",
    "                                      color=(0,0,0), hist_kwds={\"color\":(0,0,0)}, facecolor=(1,0,0))\n",
    "\n",
    "    # Show the plot\n",
    "    plt.show()\n",
    "else:\n",
    "    print(\"Not enough valid columns available to create the scatter matrix plot.\")\n",
    "\n",
    "# Step 3: Determine the skew of the continuous covariates and outcomes\n",
    "valid_outcomes_and_covariates = [var for var in outcomes_and_continuous_covariates if var in df.columns]\n",
    "if valid_outcomes_and_covariates:\n",
    "    skew_values = df[valid_outcomes_and_covariates].skew()\n",
    "    print(\"\\nSkew of each variable:\")\n",
    "    print(skew_values)\n",
    "\n",
    "    # Check if skew is above 1 for any of the variables\n",
    "    high_skew = skew_values[skew_values > 1]\n",
    "    print(\"\\nVariables with skew greater than 1:\")\n",
    "    print(high_skew)\n",
    "else:\n",
    "    print(\"No valid outcomes or covariates available to calculate skew.\")\n"
   ]
  },
  {
   "cell_type": "markdown",
   "metadata": {},
   "source": [
    "### Exercise 6\n",
    "\n",
    "It appears that the variables `budget`, `popularity`, `runtime`, `vote_count`, and `revenue` are all right-skewed. In this exercise, we will transform these variables to eliminate this skewness. Specifically, we will use the `np.log10()` method. Because some of these variable values are exactly 0, we will add a small positive value to each to ensure it is defined; this is necessary because log(0) is negative infinity.\n",
    "\n",
    "#### Instructions \n",
    "- For each above-mentioned variable in `df`, transform value `x` into `np.log10(1+x)`."
   ]
  },
  {
   "cell_type": "code",
   "execution_count": 11,
   "metadata": {},
   "outputs": [
    {
     "name": "stdout",
     "output_type": "stream",
     "text": [
      "     title            genres  Romance  Drama  Family  Action  Comedy  \\\n",
      "0  Movie 1  Action|Adventure        0      0       0       1       0   \n",
      "1  Movie 2     Drama|Romance        1      1       0       0       0   \n",
      "2  Movie 3   Action|Thriller        0      0       0       1       0   \n",
      "3  Movie 4             Drama        0      1       0       0       0   \n",
      "4  Movie 5     Comedy|Family        0      0       1       0       1   \n",
      "\n",
      "   Adventure  Thriller  \n",
      "0          1         0  \n",
      "1          0         0  \n",
      "2          0         1  \n",
      "3          0         0  \n",
      "4          0         0  \n"
     ]
    }
   ],
   "source": [
    "# Assuming the dataset `df` is already loaded and contains the relevant columns\n",
    "import pandas as pd\n",
    "import numpy as np\n",
    "\n",
    "# List of variables that need to be transformed to eliminate skewness\n",
    "skewed_variables = ['budget', 'popularity', 'runtime', 'vote_count', 'revenue']\n",
    "\n",
    "# Apply the log10 transformation for each variable in `skewed_variables`\n",
    "# Adding a small positive value (1) to ensure log transformation is well-defined (since log(0) is undefined)\n",
    "for variable in skewed_variables:\n",
    "    if variable in df.columns:\n",
    "        df[variable] = df[variable].apply(lambda x: np.log10(1 + x))\n",
    "\n",
    "# Display the updated DataFrame to verify the transformation\n",
    "print(df.head())\n"
   ]
  },
  {
   "cell_type": "markdown",
   "metadata": {},
   "source": [
    "### Exercise 7\n",
    "\n",
    "Let's now save our dataset. \n",
    "\n",
    "#### Instructions \n",
    "- Use `to_csv()` to save the `df` object as `movies_clean.csv`."
   ]
  },
  {
   "cell_type": "code",
   "execution_count": 12,
   "metadata": {},
   "outputs": [
    {
     "name": "stdout",
     "output_type": "stream",
     "text": [
      "The cleaned dataset has been saved as 'movies_clean.csv'\n"
     ]
    }
   ],
   "source": [
    "# Save the cleaned DataFrame to a CSV file\n",
    "df.to_csv('movies_clean.csv', index=False)\n",
    "\n",
    "# Print confirmation message\n",
    "print(\"The cleaned dataset has been saved as 'movies_clean.csv'\")\n"
   ]
  }
 ],
 "metadata": {
  "kernelspec": {
   "display_name": "project",
   "language": "python",
   "name": "python3"
  },
  "language_info": {
   "codemirror_mode": {
    "name": "ipython",
    "version": 3
   },
   "file_extension": ".py",
   "mimetype": "text/x-python",
   "name": "python",
   "nbconvert_exporter": "python",
   "pygments_lexer": "ipython3",
   "version": "3.12.7"
  }
 },
 "nbformat": 4,
 "nbformat_minor": 2
}
