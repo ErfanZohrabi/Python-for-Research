{
 "cells": [
  {
   "cell_type": "markdown",
   "id": "0831e284",
   "metadata": {},
   "source": [
    "### Exercise 1 Solution"
   ]
  },
  {
   "cell_type": "code",
   "execution_count": 1,
   "id": "759c2a5b",
   "metadata": {},
   "outputs": [
    {
     "data": {
      "text/plain": [
       "' abcdefghijklmnopqrstuvwxyz'"
      ]
     },
     "execution_count": 1,
     "metadata": {},
     "output_type": "execute_result"
    }
   ],
   "source": [
    "\n",
    "# Exercise 1 Solution\n",
    "import string\n",
    "\n",
    "# Define the alphabet including space followed by lowercase letters\n",
    "alphabet = ' ' + string.ascii_lowercase\n",
    "alphabet\n"
   ]
  },
  {
   "cell_type": "markdown",
   "id": "13d38d08",
   "metadata": {},
   "source": [
    "### Exercise 2 Solution"
   ]
  },
  {
   "cell_type": "code",
   "execution_count": 3,
   "id": "dec74bab",
   "metadata": {},
   "outputs": [
    {
     "data": {
      "text/plain": [
       "{' ': 0,\n",
       " 'a': 1,\n",
       " 'b': 2,\n",
       " 'c': 3,\n",
       " 'd': 4,\n",
       " 'e': 5,\n",
       " 'f': 6,\n",
       " 'g': 7,\n",
       " 'h': 8,\n",
       " 'i': 9,\n",
       " 'j': 10,\n",
       " 'k': 11,\n",
       " 'l': 12,\n",
       " 'm': 13,\n",
       " 'n': 14,\n",
       " 'o': 15,\n",
       " 'p': 16,\n",
       " 'q': 17,\n",
       " 'r': 18,\n",
       " 's': 19,\n",
       " 't': 20,\n",
       " 'u': 21,\n",
       " 'v': 22,\n",
       " 'w': 23,\n",
       " 'x': 24,\n",
       " 'y': 25,\n",
       " 'z': 26}"
      ]
     },
     "execution_count": 3,
     "metadata": {},
     "output_type": "execute_result"
    }
   ],
   "source": [
    "\n",
    "# Exercise 2 Solution\n",
    "\n",
    "# Create a dictionary with each character's position in the alphabet\n",
    "positions = {char: idx for idx, char in enumerate(alphabet)}\n",
    "positions\n"
   ]
  },
  {
   "cell_type": "markdown",
   "id": "6886be34",
   "metadata": {},
   "source": [
    "### Exercise 3 Solution"
   ]
  },
  {
   "cell_type": "code",
   "execution_count": 4,
   "id": "cdc41f82",
   "metadata": {},
   "outputs": [
    {
     "data": {
      "text/plain": [
       "'ijanzaobnfajtadbftbs'"
      ]
     },
     "execution_count": 4,
     "metadata": {},
     "output_type": "execute_result"
    }
   ],
   "source": [
    "\n",
    "# Exercise 3 Solution\n",
    "message = \"hi my name is caesar\"\n",
    "\n",
    "# Encode the message by shifting each character forward by 1\n",
    "encoded_message = ''.join(alphabet[(positions[char] + 1) % 27] for char in message)\n",
    "encoded_message\n"
   ]
  },
  {
   "cell_type": "markdown",
   "id": "f6472ed8",
   "metadata": {},
   "source": [
    "### Exercise 4 Solution"
   ]
  },
  {
   "cell_type": "code",
   "execution_count": 5,
   "id": "0563f618",
   "metadata": {},
   "outputs": [
    {
     "data": {
      "text/plain": [
       "'klcpacqdphclvcfdhvdu'"
      ]
     },
     "execution_count": 5,
     "metadata": {},
     "output_type": "execute_result"
    }
   ],
   "source": [
    "\n",
    "# Exercise 4 Solution\n",
    "\n",
    "# Define the encoding function that takes a message and a shift key\n",
    "def encoding(message, key):\n",
    "    return ''.join(alphabet[(positions[char] + key) % 27] for char in message)\n",
    "\n",
    "# Test encoding function with key = 3\n",
    "encoded_message = encoding(message, 3)\n",
    "encoded_message\n"
   ]
  },
  {
   "cell_type": "markdown",
   "id": "76c8d886",
   "metadata": {},
   "source": [
    "### Exercise 5 Solution"
   ]
  },
  {
   "cell_type": "code",
   "execution_count": 6,
   "id": "d1fbdc5b",
   "metadata": {},
   "outputs": [
    {
     "data": {
      "text/plain": [
       "'hi my name is caesar'"
      ]
     },
     "execution_count": 6,
     "metadata": {},
     "output_type": "execute_result"
    }
   ],
   "source": [
    "\n",
    "# Exercise 5 Solution\n",
    "\n",
    "# Decode the message by shifting in the opposite direction\n",
    "decoded_message = encoding(encoded_message, -3)\n",
    "decoded_message\n"
   ]
  }
 ],
 "metadata": {
  "kernelspec": {
   "display_name": "project",
   "language": "python",
   "name": "python3"
  },
  "language_info": {
   "codemirror_mode": {
    "name": "ipython",
    "version": 3
   },
   "file_extension": ".py",
   "mimetype": "text/x-python",
   "name": "python",
   "nbconvert_exporter": "python",
   "pygments_lexer": "ipython3",
   "version": "3.12.7"
  }
 },
 "nbformat": 4,
 "nbformat_minor": 5
}
