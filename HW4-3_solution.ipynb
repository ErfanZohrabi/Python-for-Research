{
 "cells": [
  {
   "cell_type": "markdown",
   "id": "4e2f717e",
   "metadata": {},
   "source": [
    "### Exercise 1 Solution"
   ]
  },
  {
   "cell_type": "code",
   "execution_count": 1,
   "id": "afa6a246",
   "metadata": {},
   "outputs": [
    {
     "data": {
      "text/plain": [
       "0.5555555555555556"
      ]
     },
     "execution_count": 1,
     "metadata": {},
     "output_type": "execute_result"
    }
   ],
   "source": [
    "\n",
    "# Exercise 1 Solution\n",
    "from collections import Counter\n",
    "import numpy as np\n",
    "\n",
    "# Function to calculate marginal probabilities\n",
    "def marginal_prob(chars):\n",
    "    char_counts = Counter(chars.values())\n",
    "    total = sum(char_counts.values())\n",
    "    return {char: count / total for char, count in char_counts.items()}\n",
    "\n",
    "# Function to calculate chance homophily\n",
    "def chance_homophily(chars):\n",
    "    marg_probs = marginal_prob(chars)\n",
    "    return sum(p ** 2 for p in marg_probs.values())\n",
    "\n",
    "# Sample data and calculation of chance homophily\n",
    "favorite_colors = {\n",
    "    \"ankit\":  \"red\",\n",
    "    \"xiaoyu\": \"blue\",\n",
    "    \"mary\":   \"blue\"\n",
    "}\n",
    "color_homophily = chance_homophily(favorite_colors)\n",
    "color_homophily\n"
   ]
  },
  {
   "cell_type": "markdown",
   "id": "b9f49c4f",
   "metadata": {},
   "source": [
    "### Exercise 2 Solution"
   ]
  },
  {
   "cell_type": "code",
   "execution_count": 2,
   "id": "10634e48",
   "metadata": {},
   "outputs": [
    {
     "data": {
      "text/html": [
       "<div>\n",
       "<style scoped>\n",
       "    .dataframe tbody tr th:only-of-type {\n",
       "        vertical-align: middle;\n",
       "    }\n",
       "\n",
       "    .dataframe tbody tr th {\n",
       "        vertical-align: top;\n",
       "    }\n",
       "\n",
       "    .dataframe thead th {\n",
       "        text-align: right;\n",
       "    }\n",
       "</style>\n",
       "<table border=\"1\" class=\"dataframe\">\n",
       "  <thead>\n",
       "    <tr style=\"text-align: right;\">\n",
       "      <th></th>\n",
       "      <th>village</th>\n",
       "      <th>adjmatrix_key</th>\n",
       "      <th>pid</th>\n",
       "      <th>hhid</th>\n",
       "      <th>resp_id</th>\n",
       "      <th>resp_gend</th>\n",
       "      <th>resp_status</th>\n",
       "      <th>age</th>\n",
       "      <th>religion</th>\n",
       "      <th>caste</th>\n",
       "      <th>...</th>\n",
       "      <th>privategovt</th>\n",
       "      <th>work_outside</th>\n",
       "      <th>work_outside_freq</th>\n",
       "      <th>shgparticipate</th>\n",
       "      <th>shg_no</th>\n",
       "      <th>savings</th>\n",
       "      <th>savings_no</th>\n",
       "      <th>electioncard</th>\n",
       "      <th>rationcard</th>\n",
       "      <th>rationcard_colour</th>\n",
       "    </tr>\n",
       "  </thead>\n",
       "  <tbody>\n",
       "  </tbody>\n",
       "</table>\n",
       "<p>0 rows × 48 columns</p>\n",
       "</div>"
      ],
      "text/plain": [
       "Empty DataFrame\n",
       "Columns: [village, adjmatrix_key, pid, hhid, resp_id, resp_gend, resp_status, age, religion, caste, subcaste, mothertongue, speakother, kannada, tamil, telugu, hindi, urdu, english, otherlang, educ, villagenative, native_name, native_type, native_taluk, native_district, res_time_yrs, res_time_mths, movereason, movecontact, movecontact_res, movecontact_hhid, movecontact_pid, movecontact_name, workflag, work_freq, work_freq_type, occupation, privategovt, work_outside, work_outside_freq, shgparticipate, shg_no, savings, savings_no, electioncard, rationcard, rationcard_colour]\n",
       "Index: []\n",
       "\n",
       "[0 rows x 48 columns]"
      ]
     },
     "execution_count": 2,
     "metadata": {},
     "output_type": "execute_result"
    }
   ],
   "source": [
    "\n",
    "# Exercise 2 Solution\n",
    "import pandas as pd\n",
    "\n",
    "# Load individual characteristics data\n",
    "df = pd.read_csv(\"https://courses.edx.org/asset-v1:HarvardX+PH526x+2T2019+type@asset+block@individual_characteristics.csv\", \n",
    "                 low_memory=False, index_col=0)\n",
    "\n",
    "# Drop rows with missing data and subset by village\n",
    "df = df.dropna()\n",
    "df1 = df[df.village == 1]\n",
    "df2 = df[df.village == 2]\n",
    "\n",
    "# Display the first few rows of df1\n",
    "df1.head()\n"
   ]
  }
 ],
 "metadata": {
  "kernelspec": {
   "display_name": "project",
   "language": "python",
   "name": "python3"
  },
  "language_info": {
   "codemirror_mode": {
    "name": "ipython",
    "version": 3
   },
   "file_extension": ".py",
   "mimetype": "text/x-python",
   "name": "python",
   "nbconvert_exporter": "python",
   "pygments_lexer": "ipython3",
   "version": "3.12.7"
  }
 },
 "nbformat": 4,
 "nbformat_minor": 5
}
