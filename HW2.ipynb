{
 "cells": [
  {
   "cell_type": "markdown",
   "metadata": {},
   "source": [
    "# Using Python for Research Homework: Week 2\n",
    "\n",
    "In this homework, we will use the tools we've covered in the past two weeks to create a tic-tac-toe (noughts and crosses) simulator and evaluate basic winning strategies."
   ]
  },
  {
   "cell_type": "markdown",
   "metadata": {},
   "source": [
    "### Exercise 1\n",
    "\n",
    "Tic-tac-toe (or noughts and crosses) is a simple strategy game in which two players take turns placing a mark on a 3x3 board, attempting to make a row, column, or diagonal of three with their mark. In this homework, we will use the tools we've covered in the past two weeks to create a tic-tac-toe simulator and evaluate basic winning strategies.\n",
    "\n",
    "In the following exercises, we will learn to create a tic-tac-toe board, place markers on the board, evaluate if either player has won, and use this to simulate two basic strategies.\n",
    "\n",
    "#### Instructions \n",
    "\n",
    "- For our tic-tac-toe board, we will use a numpy array with dimension 3 by 3. \n",
    "- Make a function `create_board()` that creates such a board with the value of each cell set to the integer `0`.\n",
    "- Call `create_board()` and store it."
   ]
  },
  {
   "cell_type": "code",
   "execution_count": 1,
   "metadata": {},
   "outputs": [
    {
     "name": "stdout",
     "output_type": "stream",
     "text": [
      "Tic-tac-toe board:\n",
      "[[0 0 0]\n",
      " [0 0 0]\n",
      " [0 0 0]]\n"
     ]
    }
   ],
   "source": [
    "import numpy as np\n",
    "\n",
    "# Define the function to create a 3x3 tic-tac-toe board\n",
    "def create_board():\n",
    "    return np.zeros((3, 3), dtype=int)\n",
    "\n",
    "# Call create_board() and store the result\n",
    "board = create_board()\n",
    "\n",
    "# Display the board\n",
    "print(\"Tic-tac-toe board:\")\n",
    "print(board)\n",
    "\n"
   ]
  },
  {
   "cell_type": "markdown",
   "metadata": {},
   "source": [
    "### Exercise 2\n",
    "\n",
    "Players 1 and 2 will take turns changing values of this array from a 0 to a 1 or 2, indicating the number of the player who places a marker there.\n",
    "\n",
    "#### Instructions \n",
    "\n",
    "- Create a function `place(board, player, position)`, where:\n",
    "    - `player` is the current player (an integer 1 or 2).\n",
    "    - `position` is a tuple of length 2 specifying a desired location to place their marker.\n",
    "    - Your function should only allow the current player to place a marker on the board (change the board position to their number) if that position is empty (zero).\n",
    "- Use `create_board()` to store a board as `board`, and use `place` to have Player 1 place a marker on location `(0, 0)`."
   ]
  },
  {
   "cell_type": "code",
   "execution_count": 2,
   "metadata": {},
   "outputs": [
    {
     "name": "stdout",
     "output_type": "stream",
     "text": [
      "Board after Player 1 places a marker at (0, 0):\n",
      "[[1 0 0]\n",
      " [0 0 0]\n",
      " [0 0 0]]\n"
     ]
    }
   ],
   "source": [
    "import numpy as np\n",
    "\n",
    "# Define the function to create a 3x3 tic-tac-toe board\n",
    "def create_board():\n",
    "    return np.zeros((3, 3), dtype=int)\n",
    "\n",
    "# Define the place function\n",
    "def place(board, player, position):\n",
    "    # Check if the specified position is empty\n",
    "    if board[position] == 0:\n",
    "        board[position] = player\n",
    "    else:\n",
    "        print(f\"Position {position} is already occupied.\")\n",
    "\n",
    "# Initialize the board and use place() to place a marker for Player 1 at (0, 0)\n",
    "board = create_board()\n",
    "place(board, 1, (0, 0))\n",
    "\n",
    "# Display the board\n",
    "print(\"Board after Player 1 places a marker at (0, 0):\")\n",
    "print(board)\n"
   ]
  },
  {
   "cell_type": "markdown",
   "metadata": {},
   "source": [
    "### Exercise 3\n",
    "\n",
    "In this exercise, we will determine which positions are available to either player for placing their marker.\n",
    "\n",
    "#### Instructions \n",
    "- Create a function `possibilities(board)` that returns a list of all positions (tuples) on the board that are not occupied (0). (Hint: `numpy.where` is a handy function that returns a list of indices that meet a condition.)\n",
    "- `board` is already defined from previous exercises. Call `possibilities(board)` to see what it returns!"
   ]
  },
  {
   "cell_type": "code",
   "execution_count": 3,
   "metadata": {},
   "outputs": [
    {
     "name": "stdout",
     "output_type": "stream",
     "text": [
      "Available positions on the board: [(0, 1), (0, 2), (1, 0), (1, 1), (1, 2), (2, 0), (2, 1), (2, 2)]\n"
     ]
    }
   ],
   "source": [
    "import numpy as np\n",
    "\n",
    "# Define the function to get a list of available positions on the board\n",
    "def possibilities(board):\n",
    "    # Find the indices where the board has value 0 (unoccupied positions)\n",
    "    available_positions = np.where(board == 0)\n",
    "    \n",
    "    # Combine row and column indices into a list of tuples\n",
    "    positions = list(zip(available_positions[0], available_positions[1]))\n",
    "    \n",
    "    return positions\n",
    "\n",
    "# Example usage with the existing board from previous exercises\n",
    "# Assuming `board` is defined and already has some positions marked\n",
    "available_positions = possibilities(board)\n",
    "\n",
    "# Display the available positions\n",
    "print(\"Available positions on the board:\", available_positions)\n"
   ]
  },
  {
   "cell_type": "markdown",
   "metadata": {},
   "source": [
    "### Exercise 4\n",
    "\n",
    "The next step is for the current player to place a marker among the available positions. In this exercise, we will select an available board position at random and place a marker there.\n",
    "\n",
    "#### Instructions \n",
    "\n",
    "- Write a function `random_place(board, player)` that places a marker for the current player at random among all the available positions (those currently set to 0).\n",
    "    - Find possible placements with `possibilities(board)`.\n",
    "    - Select one possible placement at random using `random.choice(selection)`.\n",
    "- `board` is already defined from previous exercises. Call `random_place(board, player)` to place a random marker for Player 2, and store this as board to update its value."
   ]
  },
  {
   "cell_type": "code",
   "execution_count": 5,
   "metadata": {},
   "outputs": [
    {
     "name": "stdout",
     "output_type": "stream",
     "text": [
      "Board after Player 2 places a random marker:\n",
      "[[1 0 0]\n",
      " [2 0 0]\n",
      " [0 0 0]]\n"
     ]
    }
   ],
   "source": [
    "import random\n",
    "\n",
    "# Define the random_place function\n",
    "def random_place(board, player):\n",
    "    # Get the list of available positions\n",
    "    available_positions = possibilities(board)\n",
    "    \n",
    "    # Select a random position from the available positions\n",
    "    if available_positions:  # Check if there are available positions\n",
    "        position = random.choice(available_positions)\n",
    "        \n",
    "        # Place the marker for the player at the selected position\n",
    "        place(board, player, position)\n",
    "    else:\n",
    "        print(\"No available positions left.\")\n",
    "\n",
    "# Place a random marker for Player 2 on the board and update the board\n",
    "random_place(board, 2)\n",
    "\n",
    "# Display the board after the random placement\n",
    "print(\"Board after Player 2 places a random marker:\")\n",
    "print(board)\n"
   ]
  },
  {
   "cell_type": "markdown",
   "metadata": {},
   "source": [
    "### Exercise 5\n",
    "\n",
    "We will now have both players place three markers each.\n",
    "\n",
    "#### Instructions \n",
    "\n",
    "- A new `board` is already given. Call `random_place(board, player)` to place three pieces each on board for players 1 and 2.\n",
    "- Print board to see your result."
   ]
  },
  {
   "cell_type": "code",
   "execution_count": 6,
   "metadata": {},
   "outputs": [
    {
     "name": "stdout",
     "output_type": "stream",
     "text": [
      "Board after each player places three markers:\n",
      "[[1 1 0]\n",
      " [0 0 2]\n",
      " [2 1 2]]\n"
     ]
    }
   ],
   "source": [
    "# Initialize a new board\n",
    "board = create_board()\n",
    "\n",
    "# Place three markers for each player\n",
    "for _ in range(3):\n",
    "    random_place(board, 1)  # Player 1\n",
    "    random_place(board, 2)  # Player 2\n",
    "\n",
    "# Display the board after both players have placed three markers\n",
    "print(\"Board after each player places three markers:\")\n",
    "print(board)"
   ]
  },
  {
   "cell_type": "markdown",
   "metadata": {},
   "source": [
    "### Exercise 6\n",
    "\n",
    "In the next few exercises, we will make functions that check whether either player has won the game.\n",
    "\n",
    "#### Instructions \n",
    "- Make a function `row_win(board, player)` that takes the player (integer) and determines if any row consists of only their marker. \n",
    "    - Have it return `True` if this condition is met and `False` otherwise.\n",
    "- `board` is already defined from previous exercises. Call `row_win` to check if Player 1 has a complete row."
   ]
  },
  {
   "cell_type": "code",
   "execution_count": 7,
   "metadata": {},
   "outputs": [
    {
     "name": "stdout",
     "output_type": "stream",
     "text": [
      "Does Player 1 have a complete row? False\n"
     ]
    }
   ],
   "source": [
    "import numpy as np\n",
    "\n",
    "# Define the row_win function\n",
    "def row_win(board, player):\n",
    "    # Check each row to see if it consists entirely of the player's markers\n",
    "    for row in board:\n",
    "        if np.all(row == player):  # np.all checks if all elements in the row are equal to player\n",
    "            return True\n",
    "    return False\n",
    "\n",
    "# Example usage: Check if Player 1 has a winning row\n",
    "has_row_win = row_win(board, 1)\n",
    "\n",
    "# Print the result\n",
    "print(\"Does Player 1 have a complete row?\", has_row_win)\n"
   ]
  },
  {
   "cell_type": "markdown",
   "metadata": {},
   "source": [
    "### Exercise 7\n",
    "\n",
    "In the next few exercises, we will make functions that verify if either player has won the game.\n",
    "\n",
    "#### Instructions \n",
    "- Make a function `col_win(board, player)` that takes the player (integer) and determines if any column consists of only their marker. \n",
    "    - Have it return `True` if this condition is met and `False` otherwise.\n",
    "- `board` is already defined from previous exercises. Call `col_win` to check if Player 1 has a complete row."
   ]
  },
  {
   "cell_type": "code",
   "execution_count": 8,
   "metadata": {},
   "outputs": [
    {
     "name": "stdout",
     "output_type": "stream",
     "text": [
      "Does Player 1 have a complete column? False\n"
     ]
    }
   ],
   "source": [
    "import numpy as np\n",
    "\n",
    "# Define the col_win function\n",
    "def col_win(board, player):\n",
    "    # Check each column to see if it consists entirely of the player's markers\n",
    "    for col in range(board.shape[1]):  # board.shape[1] gives the number of columns\n",
    "        if np.all(board[:, col] == player):  # Check if all elements in the column are equal to player\n",
    "            return True\n",
    "    return False\n",
    "\n",
    "# Example usage: Check if Player 1 has a winning column\n",
    "has_col_win = col_win(board, 1)\n",
    "\n",
    "# Print the result\n",
    "print(\"Does Player 1 have a complete column?\", has_col_win)"
   ]
  },
  {
   "cell_type": "markdown",
   "metadata": {},
   "source": [
    "### Exercise 8\n",
    "\n",
    "In the next few exercises, we will make functions that verify if either player has won the game.\n",
    "\n",
    "#### Instructions \n",
    "- Finally, create a function `diag_win(board, player)` that tests if either diagonal of the board consists of only their marker. Have it return `True` if this condition is met, and `False` otherwise.\n",
    "- `board` has been slightly modified from a previous exercise. Call `diag_win` to check if Player 2 has a complete diagonal."
   ]
  },
  {
   "cell_type": "code",
   "execution_count": 9,
   "metadata": {},
   "outputs": [
    {
     "name": "stdout",
     "output_type": "stream",
     "text": [
      "Does Player 2 have a complete diagonal? False\n"
     ]
    }
   ],
   "source": [
    "import numpy as np\n",
    "\n",
    "# Define the diag_win function\n",
    "def diag_win(board, player):\n",
    "    # Check the main diagonal (from top-left to bottom-right)\n",
    "    if np.all(np.diag(board) == player):\n",
    "        return True\n",
    "    \n",
    "    # Check the anti-diagonal (from top-right to bottom-left)\n",
    "    if np.all(np.diag(np.fliplr(board)) == player):\n",
    "        return True\n",
    "    \n",
    "    # Return False if neither diagonal is fully occupied by the player's marker\n",
    "    return False\n",
    "\n",
    "# Example usage: Check if Player 2 has a winning diagonal\n",
    "has_diag_win = diag_win(board, 2)\n",
    "\n",
    "# Print the result\n",
    "print(\"Does Player 2 have a complete diagonal?\", has_diag_win)\n"
   ]
  },
  {
   "cell_type": "markdown",
   "metadata": {},
   "source": [
    "### Exercise 9\n",
    "\n",
    "In the next few exercises, we will make functions that check whether either player has won the game.\n",
    "\n",
    "#### Instructions \n",
    "- Create a function `evaluate(board)` that uses `row_win`, `col_win`, and `diag_win` functions for both players. If one of them has won, return that player's number. If the board is full but no one has won, return -1. Otherwise, return 0.\n",
    "- `board` is already defined from previous exercises. Call evaluate to see if either player has won the game yet."
   ]
  },
  {
   "cell_type": "code",
   "execution_count": 10,
   "metadata": {},
   "outputs": [
    {
     "name": "stdout",
     "output_type": "stream",
     "text": [
      "Game status: 0\n"
     ]
    }
   ],
   "source": [
    "import numpy as np\n",
    "\n",
    "# Define the evaluate function\n",
    "def evaluate(board):\n",
    "    winner = 0\n",
    "    for player in [1, 2]:\n",
    "        # Check if the player has won in any row, column, or diagonal\n",
    "        if row_win(board, player) or col_win(board, player) or diag_win(board, player):\n",
    "            winner = player\n",
    "            break  # Exit the loop if a winner is found\n",
    "\n",
    "    # Check if the board is full and no winner has been found\n",
    "    if np.all(board != 0) and winner == 0:\n",
    "        winner = -1\n",
    "\n",
    "    return winner\n",
    "\n",
    "# Example usage: Check if either player has won or if it's a draw\n",
    "game_status = evaluate(board)\n",
    "\n",
    "# Print the result\n",
    "print(\"Game status:\", game_status)\n"
   ]
  },
  {
   "cell_type": "markdown",
   "metadata": {},
   "source": [
    "### Exercise 10\n",
    "\n",
    "In this exercise, we will use all the functions we have made to simulate an entire game.\n",
    "\n",
    "#### Instructions \n",
    "\n",
    "- `create_board()`, `random_place(board, player)`, and `evaluate(board)` have been created in previous exercises. Create a function `play_game()` that:\n",
    "    - Creates a board.\n",
    "    - Alternates taking turns between two players (beginning with Player 1), placing a marker during each turn.\n",
    "    - Evaluates the board for a winner after each placement.\n",
    "    - Continues the game until one player wins (returning 1 or 2 to reflect the winning player), or the game is a draw (returning -1).\n",
    "- Call play_game 1000 times, and store the results of the game in a list called `results`."
   ]
  },
  {
   "cell_type": "code",
   "execution_count": 11,
   "metadata": {},
   "outputs": [
    {
     "name": "stdout",
     "output_type": "stream",
     "text": [
      "Game results over 1000 simulations: [2, 1, 2, -1, -1, 1, 1, 2, 1, 1, 1, 1, 2, 1, 1, 2, 2, 2, -1, 1, 1, 2, 1, 1, -1, 1, 1, 2, 1, 1, 1, 1, 2, 1, 2, 2, 1, 1, 2, 1, 1, 1, 2, 1, -1, 2, 1, 2, 1, -1, 2, 1, 1, 1, 1, 2, 1, 2, 1, 2, 1, -1, 1, 1, 2, 2, -1, 1, -1, 2, 1, -1, 1, 1, 2, 1, -1, 1, 1, 1, 1, 1, 1, 1, 1, 1, 1, 2, 1, -1, 1, 1, 1, 2, 1, 1, 1, 1, -1, 2, 1, 1, 2, 1, 1, 1, 1, 1, 2, 1, 2, 1, 1, 1, 1, 2, 1, 1, 1, 1, 2, 1, -1, 1, 1, 2, 1, 2, 2, 2, -1, 2, 2, 1, 1, 1, 1, 1, 1, 1, 1, 1, -1, 1, -1, 1, 2, 2, 1, 1, -1, 1, -1, 1, 1, 1, 1, 2, 2, 1, 1, 1, 1, 1, 2, 1, 1, 1, 2, 1, 2, 2, 1, 2, 1, 2, 1, 1, 1, 2, 1, 1, 1, 2, 2, 1, 1, 1, 1, 1, 1, 1, 1, -1, 1, 2, 1, -1, -1, 1, 2, 1, 1, 2, 1, 1, 2, 1, 1, 1, 1, 1, 2, 1, 1, 1, 1, 1, 1, -1, -1, -1, -1, 1, 2, -1, 2, 1, 2, 1, -1, 1, -1, 2, 1, 2, 2, 1, 2, 1, 2, 1, -1, 2, 2, 1, 1, 1, -1, 1, 2, 1, 1, 1, 1, 2, 1, 1, -1, -1, 1, 2, 2, 2, 1, 1, 1, -1, 1, 2, 1, 1, 1, 1, 1, -1, -1, 1, 1, 1, 1, 1, 1, 2, 1, 2, 1, 1, 2, 2, 2, 1, 1, 1, 1, -1, 1, 2, 2, 1, 1, 1, 1, 1, 2, 1, 1, -1, 1, 2, 2, 1, 1, 1, 1, 2, 2, 1, 1, 1, 1, 1, 1, 1, 1, 1, -1, 2, 1, 1, 2, 2, 2, 1, -1, 1, 2, -1, -1, 2, 1, 2, 2, 2, 2, -1, 1, 2, 1, 2, -1, 1, 1, 2, 2, 1, 1, 2, 1, 1, 1, 1, 2, 1, 1, 1, 1, 2, 2, 2, 1, 1, 1, 1, 1, 2, 1, 1, -1, 1, 2, 1, 1, 1, 1, 1, 1, 1, 1, 2, 2, 1, 2, 1, 1, 1, 1, 2, 1, -1, 1, 2, 1, 1, 1, 1, 1, -1, 2, 1, 2, 2, -1, -1, 1, 1, 1, 1, -1, 1, -1, 1, 2, 2, -1, 2, 1, 1, 1, -1, 2, 1, 2, 1, 1, 1, 1, -1, 1, 1, -1, 1, 1, 2, -1, 2, 1, 2, -1, 2, 2, 1, 1, 1, -1, 1, 2, 1, 1, 2, 1, 1, 2, 1, 2, 1, -1, 1, 2, -1, 2, 1, 1, 1, -1, -1, 1, -1, 1, 1, 1, -1, 1, 1, 1, 2, 2, 1, 1, 1, 1, 1, 1, 1, 2, 2, 1, 1, -1, 2, 1, 2, 1, 1, 1, 1, 2, 2, 1, -1, 1, 1, 1, 1, 1, 1, 1, 1, 1, 2, 2, -1, -1, 1, 1, 1, 1, 2, 1, 1, 1, 2, 1, 1, 1, 1, 1, 2, 1, 1, 2, 2, 1, 2, 1, 1, 1, 1, 1, 1, 1, 1, 1, 1, 1, 1, 1, 1, 1, 1, -1, 2, 1, 2, 1, 1, 1, -1, 1, 1, 1, 1, 2, 1, 2, 1, 1, 2, -1, -1, 2, 2, 2, 1, 1, 1, -1, 1, -1, 1, 1, 2, 1, 2, -1, -1, 2, 2, -1, 1, 1, 1, 2, 1, 2, 1, -1, 2, 2, 2, 1, 2, 2, 2, 2, 1, 1, 2, 1, 1, 1, 1, 1, -1, 2, 2, 1, -1, 2, 2, 1, 2, 2, 1, 1, 1, -1, 2, 2, 1, -1, 1, 2, 2, 1, 2, 1, 1, 1, 2, 2, 1, -1, 2, 1, 1, 2, 2, 2, 1, 1, -1, 1, 1, 2, 1, 1, 1, 1, 2, 2, 1, 1, 2, 1, 1, 1, 1, 2, 2, 1, 1, 2, 1, -1, 2, 1, 2, 1, 1, -1, 1, 2, 1, 1, -1, 1, 2, 2, -1, -1, 1, 1, 1, 1, 2, 1, 1, 2, -1, 1, 1, 1, -1, 1, 2, 2, 1, 1, 2, 1, 1, 1, 1, 2, 1, 1, 2, -1, 1, 1, 1, 2, 1, 2, 1, 2, 1, 1, 1, 1, 1, 2, 2, 1, 1, 1, 1, 1, 1, 1, 1, 1, 1, 2, 1, 2, 2, 1, 1, 1, 1, 1, 1, 2, 1, 1, 1, 1, 1, 1, 2, 1, 1, -1, 2, 1, 1, 1, 2, -1, 1, 1, 1, 1, -1, 1, 1, 1, 2, 1, -1, 1, 1, 2, 1, 2, 1, 1, 1, 1, 2, 1, 1, 2, -1, -1, 1, 1, 2, 1, 2, -1, 1, 1, 1, 2, 1, 1, 1, 2, -1, 2, -1, 2, 2, 2, 1, 2, 1, 1, 2, 1, 1, 1, 1, 1, 1, 2, 2, 1, 1, 1, 1, 2, 1, 1, 2, 1, 1, 1, 1, 1, 1, 2, 2, -1, 1, 2, 2, 1, 1, 1, -1, 2, 1, 1, 1, 1, 1, -1, 1, 1, 1, 1, 1, 1, 2, 1, -1, 1, 2, 2, 2, 2, 2, 1, 2, 2, 1, 2, 2, 1, 1, -1, 1, 2, 2, 1, 1, 2, 1, 2, 1, 1, 1, 1, 1, 2, 2, -1, -1, 2, 2, 2, 2, 1, -1, 1, 1, 2, 2, 1, 2, 1, 2, 2, 2, 1, 2, 1, 2, 1, 1, 1, 1, 1, 1, 1, 1, 2, -1, -1, 2, 2, 2, 1, 2, 1, 1, 1, -1, 1, 1, 1, 1, 1, 2, 2, -1, 2, -1, 1, -1, 1, 1, 1, -1, -1, 2, 2, 1, 2, -1, 1, 1, 1, -1, -1, -1, 2, 1, -1, 1, 1, 1, 1, -1, 2, 2, 2, 1, 1, 2, 2, 2, 1, 1, 2, 1]\n"
     ]
    }
   ],
   "source": [
    "import numpy as np\n",
    "import random\n",
    "\n",
    "# Define the play_game function\n",
    "def play_game():\n",
    "    # Create a new tic-tac-toe board\n",
    "    board = create_board()\n",
    "    \n",
    "    # Initialize variables for alternating turns\n",
    "    current_player = 1\n",
    "    \n",
    "    # Continue playing until there's a winner or a draw\n",
    "    while True:\n",
    "        # Place a marker for the current player at a random position\n",
    "        random_place(board, current_player)\n",
    "        \n",
    "        # Evaluate the board to see if there's a winner or a draw\n",
    "        result = evaluate(board)\n",
    "        \n",
    "        # If there's a result (win or draw), return it\n",
    "        if result != 0:\n",
    "            return result\n",
    "        \n",
    "        # Switch to the other player\n",
    "        current_player = 2 if current_player == 1 else 1\n",
    "\n",
    "# Simulate 1000 games and store the results\n",
    "results = [play_game() for _ in range(1000)]\n",
    "\n",
    "# Display the results\n",
    "print(\"Game results over 1000 simulations:\", results)\n"
   ]
  },
  {
   "cell_type": "markdown",
   "metadata": {},
   "source": [
    "#### Exercise 11\n",
    "\n",
    "In the previous exercise, we see that when guessing at random, it's better to go first, as expected. Let's see if Player 1 can improve their strategy. \n",
    "\n",
    "#### Instructions \n",
    "- Create a function `play_strategic_game()`, where Player 1 always starts with the middle square, and otherwise both players place their markers randomly.\n",
    "- Call `play_strategic_game` 1000 times."
   ]
  },
  {
   "cell_type": "code",
   "execution_count": 12,
   "metadata": {},
   "outputs": [
    {
     "name": "stdout",
     "output_type": "stream",
     "text": [
      "Game results over 1000 strategic simulations: [1, 1, -1, 1, 2, 2, 1, 1, 1, 1, 1, 2, 1, 2, 1, 1, 1, 1, 1, 1, 1, 2, 2, 1, 1, 1, 2, 1, -1, 1, 1, 1, 1, 2, 2, 2, 1, 1, 1, 1, 2, 2, -1, 1, -1, 1, 1, 1, 2, 1, 1, -1, 1, 2, -1, -1, 1, 2, -1, 1, 1, 1, 1, -1, 1, 1, 1, 1, -1, 1, -1, 2, 1, 1, 2, 1, -1, 1, 1, 1, 1, 1, 1, 1, 1, 1, 1, -1, 2, 1, 1, 1, 1, 1, 2, 1, 1, -1, 1, 1, 1, 2, 2, 2, 1, 1, 1, 1, 2, 2, 1, 1, 1, 1, -1, 1, 1, 1, 2, 1, 1, 2, 1, 2, 1, 1, 1, 2, 1, 2, 1, 1, 1, 2, 1, 1, 1, 1, 1, -1, 2, 1, 1, 1, 1, 1, 1, 1, -1, 1, 1, 1, 1, 2, 1, -1, 1, 2, 1, 1, 1, 1, 1, 1, 2, 1, 1, 1, 1, 1, -1, 1, 1, 1, 1, 1, 1, 1, 1, -1, 1, 1, -1, -1, 2, 1, 1, 1, 1, 1, 2, 1, 1, -1, 1, 1, 1, 1, 2, 1, 1, -1, 1, 1, 1, 1, 2, 1, 1, 1, 1, -1, 1, 1, 1, 1, 1, 1, 2, -1, -1, 2, 2, 2, 2, 1, -1, 1, -1, 1, 1, 1, 2, -1, 1, 1, 1, 1, -1, 1, 1, 1, 2, 1, 1, 1, 1, 2, 1, 1, 1, 1, 1, 1, 1, 1, 2, 1, 1, 2, 2, 1, -1, 1, 1, 1, 1, 1, 1, 1, 1, 1, 2, 1, 1, 2, -1, 1, -1, 2, 1, 1, 1, -1, 2, 1, 1, 1, 1, 2, 1, 1, -1, 1, 1, 1, 1, -1, 1, 1, 1, 1, 1, 1, 1, 1, 1, -1, 1, 2, 1, 1, 1, 1, 1, 1, 2, 2, 1, 1, -1, 1, 2, 1, 2, 2, -1, 2, 1, 2, 1, 1, 1, 1, -1, 1, 1, -1, 1, 1, 1, -1, 1, 1, 1, 1, 1, 2, 1, 2, 1, 2, 2, -1, 1, 1, 1, 2, 2, 1, 1, 1, -1, -1, 1, 2, 2, 1, 1, 1, 1, 1, 1, 1, 2, 1, 1, 1, 1, 1, 1, 1, 1, 2, 2, 1, 1, 2, 1, 1, 2, 1, 2, 1, -1, 1, 1, 1, 1, 2, 1, 1, 1, 1, -1, 2, -1, 1, -1, -1, 1, 2, 1, 1, 1, -1, -1, 1, 1, 1, -1, 1, 2, 1, 2, 1, 1, 1, 1, 1, 1, 2, 1, 1, 1, 1, 1, -1, 1, 1, 2, 1, 1, -1, 1, 2, 2, 2, 1, 1, 2, 1, 1, 1, 1, 1, 1, 1, 1, -1, 1, 1, 1, 1, 1, 1, 1, 1, 1, 2, 1, 2, 2, 1, 1, 2, 1, 1, 1, 1, 2, 1, -1, 1, 2, 1, 1, 1, 1, 1, 1, 1, 1, 1, -1, 1, 1, 1, 2, 1, 2, 1, 1, 2, 1, 1, 1, -1, 1, 2, 2, 2, 1, 1, 2, 1, 1, -1, -1, 1, 1, 2, 1, 1, 1, 2, 2, -1, 1, 1, 2, 2, 1, 1, 1, 2, 1, 1, 1, 1, 1, -1, 1, 1, 1, 1, 2, 2, 1, 1, 1, 2, 1, 1, 1, 2, 1, 1, 1, -1, 2, 1, 1, -1, 1, 1, 1, 2, 1, 1, 1, 1, 2, 1, -1, 1, 2, 1, 1, 1, 1, 1, 1, 1, 1, 2, 1, 1, 1, 1, 1, 1, 1, 1, 1, 1, 1, 1, 1, 1, 1, 1, 2, 1, 2, 1, 1, 1, -1, 2, 1, 2, 1, 1, 1, 1, 1, 1, 1, 1, 1, 1, 2, 2, 1, 1, 1, 1, 1, -1, 1, 1, 1, 1, -1, 1, 1, 1, 1, 1, 2, 1, 1, 1, -1, 2, 2, 1, 2, 1, 1, 2, 1, 1, 1, 1, 1, 1, 1, 1, 1, 1, 1, 1, 1, 1, 1, 1, 1, 2, 1, 1, 1, 1, 1, 1, 2, 2, 2, 2, 2, 2, 2, 2, 1, 1, 1, 1, 1, 1, 1, 1, -1, 2, 1, 1, 1, 1, 1, 1, 1, 1, 1, -1, 1, 1, 1, 2, 1, 1, 2, 2, 1, 1, 1, 1, 1, -1, 1, 2, 2, 1, 1, -1, -1, 2, 1, -1, 1, 2, 1, 1, 1, 1, 2, 1, 2, 1, 1, 1, 1, 2, -1, 1, 1, 1, 1, 1, 1, 2, 1, 1, 1, 1, -1, 1, 2, 1, 1, 1, 1, 1, 1, 1, 2, 1, 2, -1, 2, 2, 1, 1, 1, 1, 2, 2, 2, 1, -1, 1, 1, 2, 1, 2, -1, -1, 1, 1, 2, 1, 2, 1, 1, -1, 1, 2, 1, -1, 2, 2, -1, 2, 2, 1, 1, 1, 2, 1, 1, 1, 1, 1, 1, 2, 1, 1, 1, 1, 1, 1, 1, 1, -1, 1, 1, 2, 2, -1, 1, 1, 1, 1, 1, 1, 1, 2, 1, -1, -1, 1, 1, 1, 1, 1, 2, 1, 1, 1, 1, 1, 1, -1, 1, 2, 1, -1, 1, 1, 1, 1, 1, 1, 1, 1, 1, 1, 1, 1, 1, -1, 1, 2, 2, 1, 1, 1, 1, 2, 1, 2, 2, 1, 1, 1, 1, 1, 2, 1, 1, 1, 1, 1, 1, 1, 1, -1, 2, 2, 1, 1, 1, 2, 1, 1, -1, 1, 1, 1, 1, 1, 2, 1, 1, 2, 1, 1, 1, 1, 1, 1, 1, -1, 1, 1, 1, 2, 1, 1, 1, -1, 1, 1, 1, 1, 1, -1, 1, 1, 2, 1, 1, 1, 1, 2, 1, 1, 2, 1, 2, 1, 1, 1, -1, 1, 1, 1, 1, 1, 1, 1, 1, -1, 1, 1, 1, 2, 1, 1, 1, -1, 1, 1, 1, 1, 2, 1, 1, 1, 2, 1, 1, 1, 1, 1, 1, 1, 1, 1, 2, 2, 2, 1, 2, -1, -1, -1, 1, 2, 1, 1]\n"
     ]
    }
   ],
   "source": [
    "import numpy as np\n",
    "import random\n",
    "\n",
    "# Define the play_strategic_game function\n",
    "def play_strategic_game():\n",
    "    # Create a new tic-tac-toe board\n",
    "    board = create_board()\n",
    "    \n",
    "    # Player 1 starts with the middle square\n",
    "    board[1, 1] = 1\n",
    "    \n",
    "    # Initialize the current player (starting with Player 2 after Player 1's strategic move)\n",
    "    current_player = 2\n",
    "    \n",
    "    # Continue playing until there's a winner or a draw\n",
    "    while True:\n",
    "        # Player 1 has already taken the center spot, so continue with random placements\n",
    "        random_place(board, current_player)\n",
    "        \n",
    "        # Evaluate the board to see if there's a winner or a draw\n",
    "        result = evaluate(board)\n",
    "        \n",
    "        # If there's a result (win or draw), return it\n",
    "        if result != 0:\n",
    "            return result\n",
    "        \n",
    "        # Switch to the other player\n",
    "        current_player = 2 if current_player == 1 else 1\n",
    "\n",
    "# Simulate 1000 games using the strategic starting move for Player 1\n",
    "strategic_results = [play_strategic_game() for _ in range(1000)]\n",
    "\n",
    "# Display the results\n",
    "print(\"Game results over 1000 strategic simulations:\", strategic_results)\n"
   ]
  }
 ],
 "metadata": {
  "kernelspec": {
   "display_name": "project",
   "language": "python",
   "name": "python3"
  },
  "language_info": {
   "codemirror_mode": {
    "name": "ipython",
    "version": 3
   },
   "file_extension": ".py",
   "mimetype": "text/x-python",
   "name": "python",
   "nbconvert_exporter": "python",
   "pygments_lexer": "ipython3",
   "version": "3.12.7"
  }
 },
 "nbformat": 4,
 "nbformat_minor": 2
}
