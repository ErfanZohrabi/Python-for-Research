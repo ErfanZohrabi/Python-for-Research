{
 "cells": [
  {
   "cell_type": "markdown",
   "metadata": {},
   "source": [
    "# Using Python for Research Homework: Week 5, Case Study Part 2\n",
    "\n",
    "The [movie dataset on which this case study is based](https://www.kaggle.com/tmdb/tmdb-movie-metadata) is a database of 5000 movies catalogued by [The Movie Database (TMDb)](https://www.themoviedb.org/?language=en). The information available about each movie is its budget, revenue, rating, actors and actresses, etc. In this case study, we will use this dataset to determine whether any information about a movie can predict the total revenue of a movie. We will also attempt to predict whether a movie's revenue will exceed its budget.\n",
    "\n",
    "In Part 2, we will use the dataset prepared in Part 1 for an applied analysis."
   ]
  },
  {
   "cell_type": "code",
   "execution_count": 1,
   "metadata": {},
   "outputs": [],
   "source": [
    "# DO NOT EDIT THIS CODE\n",
    "import pandas as pd\n",
    "import numpy as np\n",
    "\n",
    "from sklearn.model_selection import cross_val_score\n",
    "from sklearn.linear_model import LinearRegression\n",
    "from sklearn.linear_model import LogisticRegression\n",
    "from sklearn.ensemble import RandomForestRegressor\n",
    "from sklearn.ensemble import RandomForestClassifier\n",
    "\n",
    "from sklearn.metrics import accuracy_score\n",
    "from sklearn.metrics import r2_score\n",
    "\n",
    "import matplotlib.pyplot as plt\n",
    "\n",
    "import warnings\n",
    "warnings.filterwarnings(\"ignore\")\n",
    "\n",
    "# EDIT THIS CODE TO LOAD THE SAVED DF FROM THE LAST HOMEWORK\n",
    "df = pd.read_csv('movies_clean.csv')"
   ]
  },
  {
   "cell_type": "markdown",
   "metadata": {},
   "source": [
    "### Exercise 1\n",
    "\n",
    "In Part 2 of this case study, we will primarily use the two models we recently discussed: linear/logistic regression and random forests to perform prediction and classification. We will use these methods to predict revenue, and we will use logistic regression to classify whether a movie was profitable.\n",
    "\n",
    "In this exercise, we will instantiate regression and classification models. Code is provided that prepares the covariates and outcomes we will use for data analysis.\n",
    "\n",
    "#### Instructions\n",
    "- Instantiate `LinearRegression()`, `LogisticRegression()`, `RandomForestRegressor()`, and `RandomForestClassifier()` objects, and assign them to `linear_regression`, `logistic_regression`, `forest_regression`, and `forest_classifier`, respectively.\n",
    "- For the random forests models, specify `max_depth=4` and `random_state=0`."
   ]
  },
  {
   "cell_type": "code",
   "execution_count": 3,
   "metadata": {},
   "outputs": [
    {
     "name": "stdout",
     "output_type": "stream",
     "text": [
      "Models have been instantiated:\n",
      "Linear Regression Model: LinearRegression()\n",
      "Logistic Regression Model: LogisticRegression()\n",
      "Random Forest Regressor Model: RandomForestRegressor(max_depth=4, random_state=0)\n",
      "Random Forest Classifier Model: RandomForestClassifier(max_depth=4, random_state=0)\n"
     ]
    }
   ],
   "source": [
    "# Imports for models\n",
    "from sklearn.linear_model import LinearRegression, LogisticRegression\n",
    "from sklearn.ensemble import RandomForestRegressor, RandomForestClassifier\n",
    "\n",
    "# Instantiate the models\n",
    "# Linear Regression\n",
    "linear_regression = LinearRegression()\n",
    "\n",
    "# Logistic Regression\n",
    "logistic_regression = LogisticRegression()\n",
    "\n",
    "# Random Forest Regressor (for predicting revenue)\n",
    "forest_regression = RandomForestRegressor(max_depth=4, random_state=0)\n",
    "\n",
    "# Random Forest Classifier (for classifying profitability)\n",
    "forest_classifier = RandomForestClassifier(max_depth=4, random_state=0)\n",
    "\n",
    "# Print confirmation that the models have been instantiated\n",
    "print(\"Models have been instantiated:\")\n",
    "print(\"Linear Regression Model:\", linear_regression)\n",
    "print(\"Logistic Regression Model:\", logistic_regression)\n",
    "print(\"Random Forest Regressor Model:\", forest_regression)\n",
    "print(\"Random Forest Classifier Model:\", forest_classifier)\n"
   ]
  },
  {
   "cell_type": "markdown",
   "metadata": {},
   "source": [
    "### Exercise 2\n",
    "\n",
    "In this exercise, we will create two functions that compute a model's score. For regression models, we will use correlation as the score. For classification models, we will use accuracy as the score.\n",
    "\n",
    "#### Instructions \n",
    "- Define a function called `correlation` with arguments `estimator`, `X`, and `y`. The function should compute the correlation between the observed outcome `y` and the outcome predicted by the model.\n",
    "    - To obtain predictions, the function should first use the `fit` method of `estimator` and then use the `predict` method from the fitted object.\n",
    "    - The function should return the first argument from `r2_score` comparing `predictions` and `y`.\n",
    "- Define a function called `accuracy` with the same arguments and code, substituting `accuracy_score` for `r2_score`."
   ]
  },
  {
   "cell_type": "code",
   "execution_count": 4,
   "metadata": {},
   "outputs": [
    {
     "name": "stdout",
     "output_type": "stream",
     "text": [
      "Functions 'correlation' and 'accuracy' have been successfully defined.\n"
     ]
    }
   ],
   "source": [
    "# Imports for evaluation metrics\n",
    "from sklearn.metrics import r2_score, accuracy_score\n",
    "\n",
    "# Define a function to compute correlation (for regression models)\n",
    "def correlation(estimator, X, y):\n",
    "    # Fit the model on the input data\n",
    "    estimator.fit(X, y)\n",
    "    \n",
    "    # Predict the output\n",
    "    predictions = estimator.predict(X)\n",
    "    \n",
    "    # Return the R^2 score as the measure of correlation between predictions and observed y\n",
    "    return r2_score(y, predictions)\n",
    "\n",
    "# Define a function to compute accuracy (for classification models)\n",
    "def accuracy(estimator, X, y):\n",
    "    # Fit the model on the input data\n",
    "    estimator.fit(X, y)\n",
    "    \n",
    "    # Predict the output\n",
    "    predictions = estimator.predict(X)\n",
    "    \n",
    "    # Return the accuracy score between predictions and observed y\n",
    "    return accuracy_score(y, predictions)\n",
    "\n",
    "# Print confirmation that the functions have been defined\n",
    "print(\"Functions 'correlation' and 'accuracy' have been successfully defined.\")\n"
   ]
  },
  {
   "cell_type": "markdown",
   "metadata": {},
   "source": [
    "### Exercise 3\n",
    "\n",
    "In this exercise, we will compute the cross-validated performance for the linear and random forest regression models.\n",
    "\n",
    "#### Instructions \n",
    "\n",
    "- Call `cross_val_score` using `linear_regression` and `forest regression` as models. Store the output as `linear_regression_scores` and `forest_regression_scores`, respectively.\n",
    "    - Set the parameters `cv=10` to use 10-fold cross-validation and `scoring=correlation` to use our `correlation` function defined in the previous exercise.\n",
    "- Plotting code has been provided to compare the performance of the two models. Use `plt.show()` to plot the correlation between actual and predicted revenue for each cross-validation fold using the linear and random forest regression models.\n",
    "- Which of the two models exhibits a better fit?"
   ]
  },
  {
   "cell_type": "code",
   "execution_count": 10,
   "metadata": {},
   "outputs": [
    {
     "name": "stdout",
     "output_type": "stream",
     "text": [
      "Available columns in the DataFrame:\n",
      "Index(['title', 'genres', 'Romance', 'Drama', 'Family', 'Action', 'Comedy',\n",
      "       'Adventure', 'Thriller'],\n",
      "      dtype='object')\n"
     ]
    },
    {
     "ename": "KeyError",
     "evalue": "\"The column for 'revenue' could not be found in the DataFrame.\"",
     "output_type": "error",
     "traceback": [
      "\u001b[0;31m---------------------------------------------------------------------------\u001b[0m",
      "\u001b[0;31mKeyError\u001b[0m                                  Traceback (most recent call last)",
      "Cell \u001b[0;32mIn[10], line 23\u001b[0m\n\u001b[1;32m     21\u001b[0m     regression_target \u001b[38;5;241m=\u001b[39m similar_columns[\u001b[38;5;241m0\u001b[39m]\n\u001b[1;32m     22\u001b[0m \u001b[38;5;28;01melse\u001b[39;00m:\n\u001b[0;32m---> 23\u001b[0m     \u001b[38;5;28;01mraise\u001b[39;00m \u001b[38;5;167;01mKeyError\u001b[39;00m(\u001b[38;5;124m\"\u001b[39m\u001b[38;5;124mThe column for \u001b[39m\u001b[38;5;124m'\u001b[39m\u001b[38;5;124mrevenue\u001b[39m\u001b[38;5;124m'\u001b[39m\u001b[38;5;124m could not be found in the DataFrame.\u001b[39m\u001b[38;5;124m\"\u001b[39m)\n\u001b[1;32m     25\u001b[0m \u001b[38;5;66;03m# Define classification target if 'profitable' column exists\u001b[39;00m\n\u001b[1;32m     26\u001b[0m \u001b[38;5;28;01mif\u001b[39;00m \u001b[38;5;124m'\u001b[39m\u001b[38;5;124mprofitable\u001b[39m\u001b[38;5;124m'\u001b[39m \u001b[38;5;129;01min\u001b[39;00m df\u001b[38;5;241m.\u001b[39mcolumns:\n",
      "\u001b[0;31mKeyError\u001b[0m: \"The column for 'revenue' could not be found in the DataFrame.\""
     ]
    }
   ],
   "source": [
    "# Import necessary libraries\n",
    "import pandas as pd\n",
    "from sklearn.model_selection import cross_val_score\n",
    "import matplotlib.pyplot as plt\n",
    "from sklearn.linear_model import LinearRegression, LogisticRegression\n",
    "from sklearn.ensemble import RandomForestRegressor, RandomForestClassifier\n",
    "from sklearn.metrics import r2_score, accuracy_score\n",
    "\n",
    "# Step 1: Load DataFrame (assuming it's already loaded as df)\n",
    "\n",
    "# Step 2: Print all available columns to understand what's available in the DataFrame\n",
    "print(\"Available columns in the DataFrame:\")\n",
    "print(df.columns)\n",
    "\n",
    "# Step 3: Look for a column similar to 'revenue'\n",
    "similar_columns = [col for col in df.columns if 'revenue' in col.lower()]\n",
    "\n",
    "if similar_columns:\n",
    "    print(f\"\\nColumns that might be similar to 'revenue': {similar_columns}\")\n",
    "    # Assuming we found a column named something like 'total_revenue' (modify based on your findings)\n",
    "    regression_target = similar_columns[0]\n",
    "else:\n",
    "    raise KeyError(\"The column for 'revenue' could not be found in the DataFrame.\")\n",
    "\n",
    "# Define classification target if 'profitable' column exists\n",
    "if 'profitable' in df.columns:\n",
    "    classification_target = 'profitable'\n",
    "else:\n",
    "    raise KeyError(\"The column for 'profitable' could not be found in the DataFrame.\")\n",
    "\n",
    "# Step 4: Adjust covariates to those present in the DataFrame\n",
    "all_covariates = ['budget', 'popularity', 'runtime', 'vote_count', 'vote_average', \n",
    "                  'Action', 'Adventure', 'Fantasy', 'Science Fiction', 'Crime', \n",
    "                  'Drama', 'Thriller', 'Animation', 'Family', 'Western', 'Comedy', \n",
    "                  'Romance', 'Horror', 'Mystery', 'War', 'History', 'Music', \n",
    "                  'Documentary', 'TV Movie', 'Foreign']\n",
    "\n",
    "available_covariates = [covariate for covariate in all_covariates if covariate in df.columns]\n",
    "\n",
    "# Warning if any covariates are missing\n",
    "missing_covariates = set(all_covariates) - set(available_covariates)\n",
    "if missing_covariates:\n",
    "    print(f\"Warning: The following covariates were missing and will be excluded: {missing_covariates}\")\n",
    "\n",
    "# Step 5: Extract covariates and outcomes\n",
    "covariates = df[available_covariates]\n",
    "regression_outcome = df[regression_target]\n",
    "\n",
    "# Instantiate models\n",
    "linear_regression = LinearRegression()\n",
    "forest_regression = RandomForestRegressor(max_depth=4, random_state=0)\n",
    "\n",
    "# Define functions to compute correlation and accuracy scores\n",
    "def correlation(estimator, X, y):\n",
    "    estimator.fit(X, y)\n",
    "    predictions = estimator.predict(X)\n",
    "    return r2_score(y, predictions)\n",
    "\n",
    "def accuracy(estimator, X, y):\n",
    "    estimator.fit(X, y)\n",
    "    predictions = estimator.predict(X)\n",
    "    return accuracy_score(y, predictions)\n",
    "\n",
    "# Step 6: Perform cross-validation for linear regression and random forest regression models\n",
    "linear_regression_scores = cross_val_score(linear_regression, covariates, regression_outcome, cv=10, scoring='r2')\n",
    "forest_regression_scores = cross_val_score(forest_regression, covariates, regression_outcome, cv=10, scoring='r2')\n",
    "\n",
    "# Step 7: Plot results to compare the performance of the two models\n",
    "plt.figure(figsize=(8, 8))\n",
    "plt.axes().set_aspect('equal', 'box')\n",
    "plt.scatter(linear_regression_scores, forest_regression_scores, color='blue', alpha=0.7)\n",
    "plt.plot((0, 1), (0, 1), 'k-', lw=2)\n",
    "\n",
    "# Set plot limits, labels, and title\n",
    "plt.xlim(0, 1)\n",
    "plt.ylim(0, 1)\n",
    "plt.xlabel(\"Linear Regression Score\")\n",
    "plt.ylabel(\"Forest Regression Score\")\n",
    "plt.title(\"Cross-Validated Correlation Scores for Linear vs. Random Forest Regression\")\n",
    "\n",
    "# Show the plot\n",
    "plt.show()\n"
   ]
  },
  {
   "cell_type": "markdown",
   "metadata": {},
   "source": [
    "### Exercise 4\n",
    "\n",
    "In this exercise, we will compute cross-validated performance for the linear and random forest classification models.\n",
    "\n",
    "#### Instructions \n",
    "- Call `cross_val_score` using `logistic_regression` and `forest_classifier` as models. Store the output as `logistic_regression_scores` and `forest_classification_scores`, respectively.\n",
    "    - Set the parameters `cv=10` to use 10-fold cross-validation and `scoring=accuracy` to use our accuracy function defined in the previous exercise.\n",
    "- Plotting code has been provided to compare the performance of the two models. Use `plt.show()` to plot the accuracy of predicted profitability for each cross-validation fold using the logistic and random forest classification models.\n",
    "- Which of the two models exhibits a better fit?"
   ]
  },
  {
   "cell_type": "code",
   "execution_count": 13,
   "metadata": {},
   "outputs": [
    {
     "name": "stdout",
     "output_type": "stream",
     "text": [
      "Available columns in the DataFrame:\n",
      "Index(['title', 'genres', 'Romance', 'Drama', 'Family', 'Action', 'Comedy',\n",
      "       'Adventure', 'Thriller'],\n",
      "      dtype='object')\n"
     ]
    },
    {
     "ename": "KeyError",
     "evalue": "\"Cannot create 'profitable' column because either 'revenue' or 'budget' is missing.\"",
     "output_type": "error",
     "traceback": [
      "\u001b[0;31m---------------------------------------------------------------------------\u001b[0m",
      "\u001b[0;31mKeyError\u001b[0m                                  Traceback (most recent call last)",
      "Cell \u001b[0;32mIn[13], line 14\u001b[0m\n\u001b[1;32m     12\u001b[0m         \u001b[38;5;28mprint\u001b[39m(\u001b[38;5;124m\"\u001b[39m\u001b[38;5;124m'\u001b[39m\u001b[38;5;124mprofitable\u001b[39m\u001b[38;5;124m'\u001b[39m\u001b[38;5;124m column created based on \u001b[39m\u001b[38;5;124m'\u001b[39m\u001b[38;5;124mrevenue\u001b[39m\u001b[38;5;124m'\u001b[39m\u001b[38;5;124m and \u001b[39m\u001b[38;5;124m'\u001b[39m\u001b[38;5;124mbudget\u001b[39m\u001b[38;5;124m'\u001b[39m\u001b[38;5;124m.\u001b[39m\u001b[38;5;124m\"\u001b[39m)\n\u001b[1;32m     13\u001b[0m     \u001b[38;5;28;01melse\u001b[39;00m:\n\u001b[0;32m---> 14\u001b[0m         \u001b[38;5;28;01mraise\u001b[39;00m \u001b[38;5;167;01mKeyError\u001b[39;00m(\u001b[38;5;124m\"\u001b[39m\u001b[38;5;124mCannot create \u001b[39m\u001b[38;5;124m'\u001b[39m\u001b[38;5;124mprofitable\u001b[39m\u001b[38;5;124m'\u001b[39m\u001b[38;5;124m column because either \u001b[39m\u001b[38;5;124m'\u001b[39m\u001b[38;5;124mrevenue\u001b[39m\u001b[38;5;124m'\u001b[39m\u001b[38;5;124m or \u001b[39m\u001b[38;5;124m'\u001b[39m\u001b[38;5;124mbudget\u001b[39m\u001b[38;5;124m'\u001b[39m\u001b[38;5;124m is missing.\u001b[39m\u001b[38;5;124m\"\u001b[39m)\n\u001b[1;32m     16\u001b[0m \u001b[38;5;66;03m# Step 4: Define classification outcome\u001b[39;00m\n\u001b[1;32m     17\u001b[0m classification_target \u001b[38;5;241m=\u001b[39m \u001b[38;5;124m'\u001b[39m\u001b[38;5;124mprofitable\u001b[39m\u001b[38;5;124m'\u001b[39m\n",
      "\u001b[0;31mKeyError\u001b[0m: \"Cannot create 'profitable' column because either 'revenue' or 'budget' is missing.\""
     ]
    }
   ],
   "source": [
    "# Step 1: Load DataFrame (assuming it's already loaded as df)\n",
    "\n",
    "# Step 2: Verify the available columns to understand what's available in the DataFrame\n",
    "print(\"Available columns in the DataFrame:\")\n",
    "print(df.columns)\n",
    "\n",
    "# Step 3: Look for the 'profitable' column, or create it if it doesn't exist\n",
    "if 'profitable' not in df.columns:\n",
    "    if 'budget' in df.columns and 'revenue' in df.columns:\n",
    "        df['profitable'] = df['revenue'] > df['budget']\n",
    "        df['profitable'] = df['profitable'].astype(int)  # Convert boolean to 0/1 for classification\n",
    "        print(\"'profitable' column created based on 'revenue' and 'budget'.\")\n",
    "    else:\n",
    "        raise KeyError(\"Cannot create 'profitable' column because either 'revenue' or 'budget' is missing.\")\n",
    "\n",
    "# Step 4: Define classification outcome\n",
    "classification_target = 'profitable'\n",
    "classification_outcome = df[classification_target]\n",
    "\n",
    "# Step 5: Adjust covariates to those present in the DataFrame\n",
    "all_covariates = ['budget', 'popularity', 'runtime', 'vote_count', 'vote_average', \n",
    "                  'Action', 'Adventure', 'Fantasy', 'Science Fiction', 'Crime', \n",
    "                  'Drama', 'Thriller', 'Animation', 'Family', 'Western', 'Comedy', \n",
    "                  'Romance', 'Horror', 'Mystery', 'War', 'History', 'Music', \n",
    "                  'Documentary', 'TV Movie', 'Foreign']\n",
    "\n",
    "available_covariates = [covariate for covariate in all_covariates if covariate in df.columns]\n",
    "\n",
    "# Warning if any covariates are missing\n",
    "missing_covariates = set(all_covariates) - set(available_covariates)\n",
    "if missing_covariates:\n",
    "    print(f\"Warning: The following covariates were missing and will be excluded: {missing_covariates}\")\n",
    "\n",
    "# Step 6: Extract covariates and classification outcome\n",
    "covariates = df[available_covariates]\n",
    "\n",
    "# Step 7: Instantiate classification models\n",
    "logistic_regression = LogisticRegression()\n",
    "forest_classifier = RandomForestClassifier(max_depth=4, random_state=0)\n",
    "\n",
    "# Step 8: Perform cross-validation for logistic regression and random forest classifier models\n",
    "# Use accuracy scoring with 10-fold cross-validation\n",
    "logistic_regression_scores = cross_val_score(logistic_regression, covariates, classification_outcome, cv=10, scoring='accuracy')\n",
    "forest_classification_scores = cross_val_score(forest_classifier, covariates, classification_outcome, cv=10, scoring='accuracy')\n",
    "\n",
    "# Step 9: Plot Results to compare the performance of the two models\n",
    "plt.figure(figsize=(8, 8))\n",
    "plt.axes().set_aspect('equal', 'box')\n",
    "plt.scatter(logistic_regression_scores, forest_classification_scores, color='blue', alpha=0.7)\n",
    "plt.plot((0, 1), (0, 1), 'k-', lw=2)\n",
    "\n",
    "# Set plot limits, labels, and title\n",
    "plt.xlim(0, 1)\n",
    "plt.ylim(0, 1)\n",
    "plt.xlabel(\"Logistic Regression Score\")\n",
    "plt.ylabel(\"Forest Classification Score\")\n",
    "plt.title(\"Cross-Validated Accuracy Scores for Logistic vs. Random Forest Classification\")\n",
    "\n",
    "# Show the plot\n",
    "plt.show()\n"
   ]
  },
  {
   "cell_type": "markdown",
   "metadata": {},
   "source": [
    "### Exercise 5 \n",
    "\n",
    "In Exercise 3, we saw that predicting revenue was only moderately successful. It might be the case that predicting movies that generated precisely no revenue is difficult. In the next three exercises, we will exclude these movies, and rerun the analyses to determine if the fits improve. In this exercise, we will rerun the regression analysis for this subsetted dataset.\n",
    "\n",
    "#### Instructions \n",
    "\n",
    "- Define `positive_revenue_df` as the subset of movies in `df` with `revenue` greater than zero.\n",
    "- Code is provided below that creates new instances of model objects. Replace all instances of `df` with `positive_revenue_df`, and run the given code."
   ]
  },
  {
   "cell_type": "code",
   "execution_count": 14,
   "metadata": {},
   "outputs": [
    {
     "ename": "KeyError",
     "evalue": "'revenue'",
     "output_type": "error",
     "traceback": [
      "\u001b[0;31m---------------------------------------------------------------------------\u001b[0m",
      "\u001b[0;31mKeyError\u001b[0m                                  Traceback (most recent call last)",
      "File \u001b[0;32m/opt/miniconda3/envs/project/lib/python3.12/site-packages/pandas/core/indexes/base.py:3805\u001b[0m, in \u001b[0;36mIndex.get_loc\u001b[0;34m(self, key)\u001b[0m\n\u001b[1;32m   3804\u001b[0m \u001b[38;5;28;01mtry\u001b[39;00m:\n\u001b[0;32m-> 3805\u001b[0m     \u001b[38;5;28;01mreturn\u001b[39;00m \u001b[38;5;28;43mself\u001b[39;49m\u001b[38;5;241;43m.\u001b[39;49m\u001b[43m_engine\u001b[49m\u001b[38;5;241;43m.\u001b[39;49m\u001b[43mget_loc\u001b[49m\u001b[43m(\u001b[49m\u001b[43mcasted_key\u001b[49m\u001b[43m)\u001b[49m\n\u001b[1;32m   3806\u001b[0m \u001b[38;5;28;01mexcept\u001b[39;00m \u001b[38;5;167;01mKeyError\u001b[39;00m \u001b[38;5;28;01mas\u001b[39;00m err:\n",
      "File \u001b[0;32mindex.pyx:167\u001b[0m, in \u001b[0;36mpandas._libs.index.IndexEngine.get_loc\u001b[0;34m()\u001b[0m\n",
      "File \u001b[0;32mindex.pyx:196\u001b[0m, in \u001b[0;36mpandas._libs.index.IndexEngine.get_loc\u001b[0;34m()\u001b[0m\n",
      "File \u001b[0;32mpandas/_libs/hashtable_class_helper.pxi:7081\u001b[0m, in \u001b[0;36mpandas._libs.hashtable.PyObjectHashTable.get_item\u001b[0;34m()\u001b[0m\n",
      "File \u001b[0;32mpandas/_libs/hashtable_class_helper.pxi:7089\u001b[0m, in \u001b[0;36mpandas._libs.hashtable.PyObjectHashTable.get_item\u001b[0;34m()\u001b[0m\n",
      "\u001b[0;31mKeyError\u001b[0m: 'revenue'",
      "\nThe above exception was the direct cause of the following exception:\n",
      "\u001b[0;31mKeyError\u001b[0m                                  Traceback (most recent call last)",
      "Cell \u001b[0;32mIn[14], line 2\u001b[0m\n\u001b[1;32m      1\u001b[0m \u001b[38;5;66;03m# Step 1: Create subset DataFrame for movies with positive revenue\u001b[39;00m\n\u001b[0;32m----> 2\u001b[0m positive_revenue_df \u001b[38;5;241m=\u001b[39m df[\u001b[43mdf\u001b[49m\u001b[43m[\u001b[49m\u001b[38;5;124;43m'\u001b[39;49m\u001b[38;5;124;43mrevenue\u001b[39;49m\u001b[38;5;124;43m'\u001b[39;49m\u001b[43m]\u001b[49m \u001b[38;5;241m>\u001b[39m \u001b[38;5;241m0\u001b[39m]\n\u001b[1;32m      4\u001b[0m \u001b[38;5;66;03m# Step 2: Extract covariates and outcomes from the subset DataFrame\u001b[39;00m\n\u001b[1;32m      5\u001b[0m regression_outcome \u001b[38;5;241m=\u001b[39m positive_revenue_df[regression_target]\n",
      "File \u001b[0;32m/opt/miniconda3/envs/project/lib/python3.12/site-packages/pandas/core/frame.py:4102\u001b[0m, in \u001b[0;36mDataFrame.__getitem__\u001b[0;34m(self, key)\u001b[0m\n\u001b[1;32m   4100\u001b[0m \u001b[38;5;28;01mif\u001b[39;00m \u001b[38;5;28mself\u001b[39m\u001b[38;5;241m.\u001b[39mcolumns\u001b[38;5;241m.\u001b[39mnlevels \u001b[38;5;241m>\u001b[39m \u001b[38;5;241m1\u001b[39m:\n\u001b[1;32m   4101\u001b[0m     \u001b[38;5;28;01mreturn\u001b[39;00m \u001b[38;5;28mself\u001b[39m\u001b[38;5;241m.\u001b[39m_getitem_multilevel(key)\n\u001b[0;32m-> 4102\u001b[0m indexer \u001b[38;5;241m=\u001b[39m \u001b[38;5;28;43mself\u001b[39;49m\u001b[38;5;241;43m.\u001b[39;49m\u001b[43mcolumns\u001b[49m\u001b[38;5;241;43m.\u001b[39;49m\u001b[43mget_loc\u001b[49m\u001b[43m(\u001b[49m\u001b[43mkey\u001b[49m\u001b[43m)\u001b[49m\n\u001b[1;32m   4103\u001b[0m \u001b[38;5;28;01mif\u001b[39;00m is_integer(indexer):\n\u001b[1;32m   4104\u001b[0m     indexer \u001b[38;5;241m=\u001b[39m [indexer]\n",
      "File \u001b[0;32m/opt/miniconda3/envs/project/lib/python3.12/site-packages/pandas/core/indexes/base.py:3812\u001b[0m, in \u001b[0;36mIndex.get_loc\u001b[0;34m(self, key)\u001b[0m\n\u001b[1;32m   3807\u001b[0m     \u001b[38;5;28;01mif\u001b[39;00m \u001b[38;5;28misinstance\u001b[39m(casted_key, \u001b[38;5;28mslice\u001b[39m) \u001b[38;5;129;01mor\u001b[39;00m (\n\u001b[1;32m   3808\u001b[0m         \u001b[38;5;28misinstance\u001b[39m(casted_key, abc\u001b[38;5;241m.\u001b[39mIterable)\n\u001b[1;32m   3809\u001b[0m         \u001b[38;5;129;01mand\u001b[39;00m \u001b[38;5;28many\u001b[39m(\u001b[38;5;28misinstance\u001b[39m(x, \u001b[38;5;28mslice\u001b[39m) \u001b[38;5;28;01mfor\u001b[39;00m x \u001b[38;5;129;01min\u001b[39;00m casted_key)\n\u001b[1;32m   3810\u001b[0m     ):\n\u001b[1;32m   3811\u001b[0m         \u001b[38;5;28;01mraise\u001b[39;00m InvalidIndexError(key)\n\u001b[0;32m-> 3812\u001b[0m     \u001b[38;5;28;01mraise\u001b[39;00m \u001b[38;5;167;01mKeyError\u001b[39;00m(key) \u001b[38;5;28;01mfrom\u001b[39;00m \u001b[38;5;21;01merr\u001b[39;00m\n\u001b[1;32m   3813\u001b[0m \u001b[38;5;28;01mexcept\u001b[39;00m \u001b[38;5;167;01mTypeError\u001b[39;00m:\n\u001b[1;32m   3814\u001b[0m     \u001b[38;5;66;03m# If we have a listlike key, _check_indexing_error will raise\u001b[39;00m\n\u001b[1;32m   3815\u001b[0m     \u001b[38;5;66;03m#  InvalidIndexError. Otherwise we fall through and re-raise\u001b[39;00m\n\u001b[1;32m   3816\u001b[0m     \u001b[38;5;66;03m#  the TypeError.\u001b[39;00m\n\u001b[1;32m   3817\u001b[0m     \u001b[38;5;28mself\u001b[39m\u001b[38;5;241m.\u001b[39m_check_indexing_error(key)\n",
      "\u001b[0;31mKeyError\u001b[0m: 'revenue'"
     ]
    }
   ],
   "source": [
    "# Step 1: Create subset DataFrame for movies with positive revenue\n",
    "positive_revenue_df = df[df['revenue'] > 0]\n",
    "\n",
    "# Step 2: Extract covariates and outcomes from the subset DataFrame\n",
    "regression_outcome = positive_revenue_df[regression_target]\n",
    "classification_outcome = positive_revenue_df[classification_target]\n",
    "\n",
    "# Adjust covariates to those present in the subset DataFrame\n",
    "available_covariates = [covariate for covariate in all_covariates if covariate in positive_revenue_df.columns]\n",
    "covariates = positive_revenue_df[available_covariates]\n",
    "\n",
    "# Step 3: Reinstantiate all regression models and classifiers\n",
    "linear_regression = LinearRegression()\n",
    "logistic_regression = LogisticRegression()\n",
    "forest_regression = RandomForestRegressor(max_depth=4, random_state=0)\n",
    "forest_classifier = RandomForestClassifier(max_depth=4, random_state=0)\n",
    "\n",
    "# Step 4: Perform cross-validation for regression models\n",
    "linear_regression_scores = cross_val_score(linear_regression, covariates, regression_outcome, cv=10, scoring='r2')\n",
    "forest_regression_scores = cross_val_score(forest_regression, covariates, regression_outcome, cv=10, scoring='r2')\n",
    "\n",
    "# Step 5: Perform cross-validation for classification models\n",
    "logistic_regression_scores = cross_val_score(logistic_regression, covariates, classification_outcome, cv=10, scoring='accuracy')\n",
    "forest_classification_scores = cross_val_score(forest_classifier, covariates, classification_outcome, cv=10, scoring='accuracy')\n",
    "\n",
    "# Step 6: Print scores to evaluate results\n",
    "print(\"Linear Regression Scores (Subsetted Data):\", linear_regression_scores)\n",
    "print(\"Random Forest Regression Scores (Subsetted Data):\", forest_regression_scores)\n",
    "print(\"Logistic Regression Scores (Subsetted Data):\", logistic_regression_scores)\n",
    "print(\"Random Forest Classification Scores (Subsetted Data):\", forest_classification_scores)\n"
   ]
  },
  {
   "cell_type": "markdown",
   "metadata": {},
   "source": [
    "### Exercise 6\n",
    "\n",
    "In this exercise, we will compute the cross-validated performance for the linear and random forest regression models for positive revenue movies only.\n",
    "\n",
    "#### Instructions \n",
    "\n",
    "- Call `cross_val_score` using `linear_regression` and `forest regression` as models. Store the output as `linear_regression_scores` and `forest_regression_scores`, respectively.\n",
    "    - Set the parameters `cv=10` to use 10-fold cross-validation and `scoring=correlation` to use our `correlation` function defined in the previous exercise.\n",
    "- Plotting code has been provided to compare the performance of the two models. Use `plt.show()` to plot the correlation between actual and predicted revenue for each cross-validation fold using the linear and random forest regression models.\n",
    "- Which of the two models exhibits a better fit? Is this result different from what we observed when considering all movies?\n",
    "- Code is provided for you that prints the importance of each covariate in predicting revenue using the random forests classifier. \n",
    "    - Which variables are most important?"
   ]
  },
  {
   "cell_type": "code",
   "execution_count": 15,
   "metadata": {},
   "outputs": [
    {
     "ename": "NameError",
     "evalue": "name 'regression_outcome' is not defined",
     "output_type": "error",
     "traceback": [
      "\u001b[0;31m---------------------------------------------------------------------------\u001b[0m",
      "\u001b[0;31mNameError\u001b[0m                                 Traceback (most recent call last)",
      "Cell \u001b[0;32mIn[15], line 3\u001b[0m\n\u001b[1;32m      1\u001b[0m \u001b[38;5;66;03m# Step 1: Perform cross-validation for linear regression and random forest regression models on positive revenue movies\u001b[39;00m\n\u001b[1;32m      2\u001b[0m \u001b[38;5;66;03m# Using the `correlation` function for scoring, with 10-fold cross-validation\u001b[39;00m\n\u001b[0;32m----> 3\u001b[0m linear_regression_scores \u001b[38;5;241m=\u001b[39m cross_val_score(linear_regression, covariates, \u001b[43mregression_outcome\u001b[49m, cv\u001b[38;5;241m=\u001b[39m\u001b[38;5;241m10\u001b[39m, scoring\u001b[38;5;241m=\u001b[39mcorrelation)\n\u001b[1;32m      4\u001b[0m forest_regression_scores \u001b[38;5;241m=\u001b[39m cross_val_score(forest_regression, covariates, regression_outcome, cv\u001b[38;5;241m=\u001b[39m\u001b[38;5;241m10\u001b[39m, scoring\u001b[38;5;241m=\u001b[39mcorrelation)\n\u001b[1;32m      6\u001b[0m \u001b[38;5;66;03m# Step 2: Plot Results to compare the performance of the two models\u001b[39;00m\n",
      "\u001b[0;31mNameError\u001b[0m: name 'regression_outcome' is not defined"
     ]
    }
   ],
   "source": [
    "# Step 1: Perform cross-validation for linear regression and random forest regression models on positive revenue movies\n",
    "# Using the `correlation` function for scoring, with 10-fold cross-validation\n",
    "linear_regression_scores = cross_val_score(linear_regression, covariates, regression_outcome, cv=10, scoring=correlation)\n",
    "forest_regression_scores = cross_val_score(forest_regression, covariates, regression_outcome, cv=10, scoring=correlation)\n",
    "\n",
    "# Step 2: Plot Results to compare the performance of the two models\n",
    "plt.figure(figsize=(8, 8))\n",
    "plt.axes().set_aspect('equal', 'box')\n",
    "plt.scatter(linear_regression_scores, forest_regression_scores, color='blue', alpha=0.7)\n",
    "plt.plot((0, 1), (0, 1), 'k-', lw=2)\n",
    "\n",
    "# Set plot limits, labels, and title\n",
    "plt.xlim(0, 1)\n",
    "plt.ylim(0, 1)\n",
    "plt.xlabel(\"Linear Regression Score\")\n",
    "plt.ylabel(\"Forest Regression Score\")\n",
    "plt.title(\"Cross-Validated Correlation Scores for Linear vs. Random Forest Regression (Positive Revenue Movies)\")\n",
    "\n",
    "# Show the plot\n",
    "plt.show()\n",
    "\n",
    "# Step 3: Print the importance of each covariate in the random forest regression\n",
    "# Fit the model and display feature importances\n",
    "forest_regression.fit(positive_revenue_df[available_covariates], regression_outcome)\n",
    "feature_importances = sorted(list(zip(available_covariates, forest_regression.feature_importances_)), key=lambda tup: tup[1], reverse=True)\n",
    "\n",
    "# Display feature importances\n",
    "print(\"Feature importances for Random Forest Regression:\")\n",
    "for feature, importance in feature_importances:\n",
    "    print(f\"{feature}: {importance:.4f}\")\n"
   ]
  },
  {
   "cell_type": "markdown",
   "metadata": {},
   "source": [
    "### Exercise 7\n",
    "\n",
    "In this exercise, we will compute cross-validated performance for the linear and random forest classification models for positive revenue movies only.\n",
    "\n",
    "#### Instructions \n",
    "\n",
    "- Call `cross_val_score` using `logistic_regression` and `forest classifer` as models. Store the output as `logistic_regression_scores` and `forest_classification_scores`, respectively.\n",
    "    - Set the parameters `cv=10` to use 10-fold cross-validation and `scoring=accuracy` to use our `accuracy` function defined in the previous exercise.\n",
    "- Plotting code has been provided to compare the performance of the two models. Use `plt.show()` to plot the correlation between actual and predicted revenue for each cross-validation fold using the linear and random forest regression models.\n",
    "- Which of the two models exhibits a better fit? Is this result different from what we observed when considering all movies?\n",
    "- Code is provided for you that prints the importance of each covariate in predicting profitabilitiy using the random forests classifier. \n",
    "    - Which variables are most important?"
   ]
  },
  {
   "cell_type": "code",
   "execution_count": 16,
   "metadata": {},
   "outputs": [
    {
     "ename": "NameError",
     "evalue": "name 'logistic_regression_scores' is not defined",
     "output_type": "error",
     "traceback": [
      "\u001b[0;31m---------------------------------------------------------------------------\u001b[0m",
      "\u001b[0;31mNameError\u001b[0m                                 Traceback (most recent call last)",
      "Cell \u001b[0;32mIn[16], line 6\u001b[0m\n\u001b[1;32m      1\u001b[0m \u001b[38;5;66;03m# Determine the cross-validated accuracy for logistic and random forest models.\u001b[39;00m\n\u001b[1;32m      2\u001b[0m \n\u001b[1;32m      3\u001b[0m \n\u001b[1;32m      4\u001b[0m \u001b[38;5;66;03m# Plot Results\u001b[39;00m\n\u001b[1;32m      5\u001b[0m plt\u001b[38;5;241m.\u001b[39maxes()\u001b[38;5;241m.\u001b[39mset_aspect(\u001b[38;5;124m'\u001b[39m\u001b[38;5;124mequal\u001b[39m\u001b[38;5;124m'\u001b[39m, \u001b[38;5;124m'\u001b[39m\u001b[38;5;124mbox\u001b[39m\u001b[38;5;124m'\u001b[39m)\n\u001b[0;32m----> 6\u001b[0m plt\u001b[38;5;241m.\u001b[39mscatter(\u001b[43mlogistic_regression_scores\u001b[49m, forest_classification_scores)\n\u001b[1;32m      7\u001b[0m plt\u001b[38;5;241m.\u001b[39mplot((\u001b[38;5;241m0\u001b[39m, \u001b[38;5;241m1\u001b[39m), (\u001b[38;5;241m0\u001b[39m, \u001b[38;5;241m1\u001b[39m), \u001b[38;5;124m'\u001b[39m\u001b[38;5;124mk-\u001b[39m\u001b[38;5;124m'\u001b[39m)\n\u001b[1;32m      9\u001b[0m plt\u001b[38;5;241m.\u001b[39mxlim(\u001b[38;5;241m0\u001b[39m, \u001b[38;5;241m1\u001b[39m)\n",
      "\u001b[0;31mNameError\u001b[0m: name 'logistic_regression_scores' is not defined"
     ]
    },
    {
     "data": {
      "image/png": "[encoded data removed]",
      "text/plain": [
       "<Figure size 640x480 with 1 Axes>"
      ]
     },
     "metadata": {},
     "output_type": "display_data"
    }
   ],
   "source": [
    "# Determine the cross-validated accuracy for logistic and random forest models.\n",
    "\n",
    "\n",
    "# Plot Results\n",
    "plt.axes().set_aspect('equal', 'box')\n",
    "plt.scatter(logistic_regression_scores, forest_classification_scores)\n",
    "plt.plot((0, 1), (0, 1), 'k-')\n",
    "\n",
    "plt.xlim(0, 1)\n",
    "plt.ylim(0, 1)\n",
    "plt.xlabel(\"Linear Classification Score\")\n",
    "plt.ylabel(\"Forest Classification Score\")\n",
    "\n",
    "# Show the plot.\n",
    "\n",
    "# Print the importance of each covariate in the random forest classification.\n",
    "forest_classifier.fit(positive_revenue_df[all_covariates], positive_revenue_df[classification_target])\n",
    "sorted(list(zip(all_covariates, forest_classifier.feature_importances_)), key=lambda tup: tup[1])"
   ]
  },
  {
   "cell_type": "code",
   "execution_count": 17,
   "metadata": {},
   "outputs": [
    {
     "ename": "NameError",
     "evalue": "name 'logistic_regression_scores' is not defined",
     "output_type": "error",
     "traceback": [
      "\u001b[0;31m---------------------------------------------------------------------------\u001b[0m",
      "\u001b[0;31mNameError\u001b[0m                                 Traceback (most recent call last)",
      "Cell \u001b[0;32mIn[17], line 6\u001b[0m\n\u001b[1;32m      1\u001b[0m \u001b[38;5;66;03m# Determine the cross-validated accuracy for logistic and random forest models.\u001b[39;00m\n\u001b[1;32m      2\u001b[0m \n\u001b[1;32m      3\u001b[0m \n\u001b[1;32m      4\u001b[0m \u001b[38;5;66;03m# Plot Results\u001b[39;00m\n\u001b[1;32m      5\u001b[0m plt\u001b[38;5;241m.\u001b[39maxes()\u001b[38;5;241m.\u001b[39mset_aspect(\u001b[38;5;124m'\u001b[39m\u001b[38;5;124mequal\u001b[39m\u001b[38;5;124m'\u001b[39m, \u001b[38;5;124m'\u001b[39m\u001b[38;5;124mbox\u001b[39m\u001b[38;5;124m'\u001b[39m)\n\u001b[0;32m----> 6\u001b[0m plt\u001b[38;5;241m.\u001b[39mscatter(\u001b[43mlogistic_regression_scores\u001b[49m, forest_classification_scores)\n\u001b[1;32m      7\u001b[0m plt\u001b[38;5;241m.\u001b[39mplot((\u001b[38;5;241m0\u001b[39m, \u001b[38;5;241m1\u001b[39m), (\u001b[38;5;241m0\u001b[39m, \u001b[38;5;241m1\u001b[39m), \u001b[38;5;124m'\u001b[39m\u001b[38;5;124mk-\u001b[39m\u001b[38;5;124m'\u001b[39m)\n\u001b[1;32m      9\u001b[0m plt\u001b[38;5;241m.\u001b[39mxlim(\u001b[38;5;241m0\u001b[39m, \u001b[38;5;241m1\u001b[39m)\n",
      "\u001b[0;31mNameError\u001b[0m: name 'logistic_regression_scores' is not defined"
     ]
    },
    {
     "data": {
      "image/png": "[encoded data removed]",
      "text/plain": [
       "<Figure size 640x480 with 1 Axes>"
      ]
     },
     "metadata": {},
     "output_type": "display_data"
    }
   ],
   "source": [
    "# Determine the cross-validated accuracy for logistic and random forest models.\n",
    "\n",
    "\n",
    "# Plot Results\n",
    "plt.axes().set_aspect('equal', 'box')\n",
    "plt.scatter(logistic_regression_scores, forest_classification_scores)\n",
    "plt.plot((0, 1), (0, 1), 'k-')\n",
    "\n",
    "plt.xlim(0, 1)\n",
    "plt.ylim(0, 1)\n",
    "plt.xlabel(\"Linear Classification Score\")\n",
    "plt.ylabel(\"Forest Classification Score\")\n",
    "\n",
    "# Show the plot.\n",
    "\n",
    "# Print the importance of each covariate in the random forest classification.\n",
    "forest_classifier.fit(positive_revenue_df[all_covariates], positive_revenue_df[classification_target])\n",
    "sorted(list(zip(all_covariates, forest_classifier.feature_importances_)), key=lambda tup: tup[1])"
   ]
  },
  {
   "cell_type": "code",
   "execution_count": null,
   "metadata": {},
   "outputs": [],
   "source": []
  }
 ],
 "metadata": {
  "kernelspec": {
   "display_name": "project",
   "language": "python",
   "name": "python3"
  },
  "language_info": {
   "codemirror_mode": {
    "name": "ipython",
    "version": 3
   },
   "file_extension": ".py",
   "mimetype": "text/x-python",
   "name": "python",
   "nbconvert_exporter": "python",
   "pygments_lexer": "ipython3",
   "version": "3.12.7"
  },
  "toc": {
   "base_numbering": 1,
   "nav_menu": {},
   "number_sections": true,
   "sideBar": true,
   "skip_h1_title": false,
   "title_cell": "Table of Contents",
   "title_sidebar": "Contents",
   "toc_cell": false,
   "toc_position": {},
   "toc_section_display": true,
   "toc_window_display": false
  }
 },
 "nbformat": 4,
 "nbformat_minor": 2
}
